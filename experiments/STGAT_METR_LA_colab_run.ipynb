{
  "nbformat": 4,
  "nbformat_minor": 0,
  "metadata": {
    "colab": {
      "provenance": [],
      "gpuType": "T4"
    },
    "kernelspec": {
      "name": "python3",
      "display_name": "Python 3"
    },
    "language_info": {
      "name": "python"
    },
    "accelerator": "GPU"
  },
  "cells": [
    {
      "cell_type": "markdown",
      "source": [
        "# STGAT model check\n",
        "This notebook simply took the code from [here](https://github.com/xyk0058/STGAT), created some modifications for logging, architecture changes to be more similar to STGATE, train/val splitting like [here](https://github.com/xlwang233/STSeq2Seq/tree/master) and run it on traffic flow forecasting setup with [METR-LA](https://drive.google.com/drive/folders/10FOTa6HXPqX8Pf5WRoRwcFnW9BrNZEIX) dataset"
      ],
      "metadata": {
        "id": "NlWPFJupIEYm"
      }
    },
    {
      "cell_type": "code",
      "source": [
        "from google.colab import drive\n",
        "drive.mount('/content/drive')"
      ],
      "metadata": {
        "colab": {
          "base_uri": "https://localhost:8080/"
        },
        "id": "Hov5JD8sxCuQ",
        "outputId": "df56b5c3-c077-47d0-8d59-c996e6643515"
      },
      "execution_count": 1,
      "outputs": [
        {
          "output_type": "stream",
          "name": "stdout",
          "text": [
            "Mounted at /content/drive\n"
          ]
        }
      ]
    },
    {
      "cell_type": "code",
      "source": [
        "!ls \"/content/drive/My Drive/Colab Notebooks/STGATE\""
      ],
      "metadata": {
        "colab": {
          "base_uri": "https://localhost:8080/"
        },
        "id": "w-rsMst7xFnT",
        "outputId": "f66e2393-0e76-498b-c17a-efc607baa8db"
      },
      "execution_count": 5,
      "outputs": [
        {
          "output_type": "stream",
          "name": "stdout",
          "text": [
            "data  lib  loss  models  __pycache__  testing.py  training.py  train.py  util.py\n"
          ]
        }
      ]
    },
    {
      "cell_type": "code",
      "source": [],
      "metadata": {
        "id": "_jEMyaHazF0P"
      },
      "execution_count": null,
      "outputs": []
    },
    {
      "cell_type": "code",
      "source": [
        "!python3 \"/content/drive/My Drive/Colab Notebooks/STGATE/train.py\" --cuda"
      ],
      "metadata": {
        "colab": {
          "base_uri": "https://localhost:8080/"
        },
        "id": "6-WDhl5pxStA",
        "outputId": "373fbd05-e01d-4aa4-d794-d1ba22d7d294"
      },
      "execution_count": null,
      "outputs": [
        {
          "output_type": "stream",
          "name": "stdout",
          "text": [
            "Training configs: Namespace(data='/content/drive/My Drive/Colab Notebooks/STGATE/data/METR-LA/', adj_filename='/content/drive/My Drive/Colab Notebooks/STGATE/data/METR-LA/adj_mx_dijsk.pkl', params_dir='/content/drive/My Drive/Colab Notebooks/STGATE/experiment_METR_LA', num_of_vertices=207, num_of_features=2, points_per_hour=12, num_for_predict=12, num_of_weeks=1, num_of_days=1, num_of_hours=1, batch_size=100, epoch=500, lr=0.0002, print_every=200, opt='adam', graph='default', adjtype='symnadj', early_stop_maxtry=20, cuda=True)\n",
            "\u001b[34m\u001b[1mwandb\u001b[0m: Currently logged in as: \u001b[33mgkormakov\u001b[0m (\u001b[33mmrph2898\u001b[0m). Use \u001b[1m`wandb login --relogin`\u001b[0m to force relogin\n",
            "\u001b[34m\u001b[1mwandb\u001b[0m: Tracking run with wandb version 0.15.12\n",
            "\u001b[34m\u001b[1mwandb\u001b[0m: Run data is saved locally in \u001b[35m\u001b[1m/content/wandb/run-20231019_223434-4nop7j0s\u001b[0m\n",
            "\u001b[34m\u001b[1mwandb\u001b[0m: Run \u001b[1m`wandb offline`\u001b[0m to turn off syncing.\n",
            "\u001b[34m\u001b[1mwandb\u001b[0m: Syncing run \u001b[33mvisionary-sun-4\u001b[0m\n",
            "\u001b[34m\u001b[1mwandb\u001b[0m: ⭐️ View project at \u001b[34m\u001b[4mhttps://wandb.ai/mrph2898/STGAT\u001b[0m\n",
            "\u001b[34m\u001b[1mwandb\u001b[0m: 🚀 View run at \u001b[34m\u001b[4mhttps://wandb.ai/mrph2898/STGAT/runs/4nop7j0s\u001b[0m\n",
            "adj torch.Size([207, 207])\n",
            "Namespace(data='/content/drive/My Drive/Colab Notebooks/STGATE/data/METR-LA/', adj_filename='/content/drive/My Drive/Colab Notebooks/STGATE/data/METR-LA/adj_mx_dijsk.pkl', params_dir='/content/drive/My Drive/Colab Notebooks/STGATE/experiment_METR_LA', num_of_vertices=207, num_of_features=2, points_per_hour=12, num_for_predict=12, num_of_weeks=1, num_of_days=1, num_of_hours=1, batch_size=100, epoch=500, lr=0.0002, print_every=200, opt='adam', graph='default', adjtype='symnadj', early_stop_maxtry=20, cuda=True)\n",
            "/usr/local/lib/python3.10/dist-packages/torch/nn/utils/weight_norm.py:30: UserWarning: torch.nn.utils.weight_norm is deprecated in favor of torch.nn.utils.parametrizations.weight_norm.\n",
            "  warnings.warn(\"torch.nn.utils.weight_norm is deprecated in favor of torch.nn.utils.parametrizations.weight_norm.\")\n",
            "start training...\n",
            "  0% 0/500 [00:00<?, ?it/s]Epoch: 000, Inference Time: 6.9981 secs\n",
            "Training finished\n",
            "On average over 12 horizons, Test MAE: 4.3755, Test MAPE: 0.1305, Test RMSE: 8.2340\n",
            "early stop trycnt: 0 0\n",
            "==================================================================================\n",
            "\n",
            "\n",
            "\n",
            "\n",
            "  0% 1/500 [02:31<20:56:46, 151.11s/it]Epoch: 001, Inference Time: 7.1533 secs\n",
            "Training finished\n",
            "On average over 12 horizons, Test MAE: 3.9820, Test MAPE: 0.1186, Test RMSE: 7.6288\n",
            "early stop trycnt: 0 1\n",
            "==================================================================================\n",
            "\n",
            "\n",
            "\n",
            "\n",
            "  0% 2/500 [05:06<21:14:46, 153.59s/it]Epoch: 002, Inference Time: 7.1965 secs\n",
            "Training finished\n",
            "On average over 12 horizons, Test MAE: 3.8930, Test MAPE: 0.1159, Test RMSE: 7.4640\n",
            "early stop trycnt: 0 2\n",
            "==================================================================================\n",
            "\n",
            "\n",
            "\n",
            "\n",
            "  1% 3/500 [07:44<21:28:02, 155.50s/it]Epoch: 003, Inference Time: 7.1888 secs\n",
            "Training finished\n",
            "On average over 12 horizons, Test MAE: 3.8506, Test MAPE: 0.1164, Test RMSE: 7.3873\n",
            "early stop trycnt: 0 3\n",
            "==================================================================================\n",
            "\n",
            "\n",
            "\n",
            "\n",
            "  1% 4/500 [10:23<21:36:38, 156.85s/it]Epoch: 004, Inference Time: 7.2493 secs\n",
            "Training finished\n",
            "On average over 12 horizons, Test MAE: 3.7013, Test MAPE: 0.1114, Test RMSE: 7.1485\n",
            "early stop trycnt: 0 4\n",
            "==================================================================================\n",
            "\n",
            "\n",
            "\n",
            "\n",
            "  1% 5/500 [13:02<21:40:36, 157.65s/it]Epoch: 005, Inference Time: 7.2400 secs\n",
            "Training finished\n",
            "On average over 12 horizons, Test MAE: 3.5901, Test MAPE: 0.1074, Test RMSE: 6.9775\n",
            "early stop trycnt: 0 5\n",
            "==================================================================================\n",
            "\n",
            "\n",
            "\n",
            "\n",
            "  1% 6/500 [15:41<21:42:28, 158.20s/it]Epoch: 006, Inference Time: 7.1772 secs\n",
            "Training finished\n",
            "On average over 12 horizons, Test MAE: 3.5214, Test MAPE: 0.1035, Test RMSE: 6.8571\n",
            "early stop trycnt: 0 6\n",
            "==================================================================================\n",
            "\n",
            "\n",
            "\n",
            "\n",
            "  1% 7/500 [18:20<21:42:23, 158.51s/it]"
          ]
        }
      ]
    },
    {
      "cell_type": "code",
      "source": [],
      "metadata": {
        "id": "Dd8ttbJ_2Fxi"
      },
      "execution_count": null,
      "outputs": []
    }
  ]
}