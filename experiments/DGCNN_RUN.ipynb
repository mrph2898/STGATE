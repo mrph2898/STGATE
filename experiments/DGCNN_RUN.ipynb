{
 "cells": [
  {
   "cell_type": "markdown",
   "id": "22b45a4c-214d-4d6c-b2be-20588fffe8fa",
   "metadata": {},
   "source": [
    "# The simplest way to run the model\n",
    "\n",
    "The main part is taken from [documentation](https://torcheeg.readthedocs.io/en/stable/auto_examples/examples_amigos_dgcnn.html)"
   ]
  },
  {
   "cell_type": "code",
   "execution_count": 1,
   "id": "922cc1e3-9776-4b49-97f8-9845a16764e0",
   "metadata": {},
   "outputs": [],
   "source": [
    "import scipy \n",
    "import numpy as np\n",
    "import matplotlib.pyplot as plt\n",
    "import seaborn as sns\n",
    "import os\n",
    "import torch\n",
    "import torch.nn as nn\n",
    "import math\n",
    "import random"
   ]
  },
  {
   "cell_type": "code",
   "execution_count": 2,
   "id": "e8dba00b-3951-429f-abc1-321f7d5b8e38",
   "metadata": {},
   "outputs": [],
   "source": [
    "import torcheeg as teeg\n",
    "from torcheeg.datasets.constants.emotion_recognition.dreamer import DREAMER_ADJACENCY_MATRIX, DREAMER_CHANNEL_LOCATION_DICT\n",
    "from torcheeg.datasets.constants.emotion_recognition.seed import SEED_ADJACENCY_MATRIX, SEED_CHANNEL_LOCATION_DICT\n",
    "from torcheeg.datasets.constants.emotion_recognition.seed_iv import SEED_IV_ADJACENCY_MATRIX, SEED_IV_CHANNEL_LOCATION_DICT\n",
    "from torcheeg.datasets import DREAMERDataset, SEEDDataset, SEEDIVDataset\n",
    "from torcheeg import transforms\n",
    "from torcheeg.transforms.pyg import ToG"
   ]
  },
  {
   "cell_type": "code",
   "execution_count": 3,
   "id": "f2ffe534-94ab-4125-9768-2165f1f3e99b",
   "metadata": {},
   "outputs": [],
   "source": [
    "def seed_everything(seed):\n",
    "    random.seed(seed)\n",
    "    np.random.seed(seed)\n",
    "    os.environ[\"PYTHONHASHSEED\"] = str(seed)\n",
    "    torch.manual_seed(seed)\n",
    "    torch.cuda.manual_seed(seed)\n",
    "    torch.backends.cudnn.deterministic = True\n",
    "    torch.backends.cudnn.benchmark = False\n",
    "\n",
    "\n",
    "seed_everything(73)"
   ]
  },
  {
   "cell_type": "code",
   "execution_count": 4,
   "id": "d672be4d-5ec4-4ad1-9186-9afee135c68a",
   "metadata": {},
   "outputs": [],
   "source": [
    "DATA_DIR = os.path.join(\"..\", \"data\")"
   ]
  },
  {
   "cell_type": "markdown",
   "id": "3b552647-1831-43cc-a451-2716cb20024a",
   "metadata": {},
   "source": [
    "# Arousal DREAMER part"
   ]
  },
  {
   "cell_type": "code",
   "execution_count": 5,
   "id": "1fb022bd-384a-4e2b-b227-32f8eb770daf",
   "metadata": {},
   "outputs": [
    {
     "name": "stdout",
     "output_type": "stream",
     "text": [
      "dataset already exists at path ..\\data\\dreamer, reading from path...\n"
     ]
    }
   ],
   "source": [
    "dataset = DREAMERDataset(io_path=os.path.join(DATA_DIR, \"dreamer\"),\n",
    "                         mat_path=os.path.join(DATA_DIR, 'DREAMER.mat'),\n",
    "                         online_transform=transforms.ToTensor(),\n",
    "                         offline_transform=transforms.Compose([\n",
    "                             ToG(DREAMER_ADJACENCY_MATRIX)\n",
    "                         ]),\n",
    "                         label_transform=transforms.Compose([\n",
    "                             transforms.Select('arousal'),\n",
    "                             transforms.Binary(3.0)\n",
    "                         ]),\n",
    "                         # num_worker=4\n",
    "                        )"
   ]
  },
  {
   "cell_type": "code",
   "execution_count": 6,
   "id": "525f9efc-ff69-46ce-903e-33770756cdfc",
   "metadata": {},
   "outputs": [],
   "source": [
    "from torcheeg.model_selection import KFoldPerSubject\n",
    "\n",
    "SPLIT_PATH = os.path.join(DATA_DIR, 'dreamer_split')\n",
    "k_fold = KFoldPerSubject(n_splits=5,\n",
    "                         split_path=SPLIT_PATH,\n",
    "                         shuffle=True)"
   ]
  },
  {
   "cell_type": "code",
   "execution_count": null,
   "id": "aab0deea-b6ad-4b5c-8508-261e19830b93",
   "metadata": {
    "scrolled": true
   },
   "outputs": [
    {
     "name": "stderr",
     "output_type": "stream",
     "text": [
      "2023-10-27 06:11:21,034 INFO MainThread pytorch_lightning.utilities.rank_zero GPU available: True (cuda), used: True\n",
      "2023-10-27 06:11:21,036 INFO MainThread pytorch_lightning.utilities.rank_zero TPU available: False, using: 0 TPU cores\n",
      "2023-10-27 06:11:21,037 INFO MainThread pytorch_lightning.utilities.rank_zero IPU available: False, using: 0 IPUs\n",
      "2023-10-27 06:11:21,038 INFO MainThread pytorch_lightning.utilities.rank_zero HPU available: False, using: 0 HPUs\n",
      "C:\\Users\\Georgy\\AppData\\Local\\Programs\\Python\\Python311\\Lib\\site-packages\\pytorch_lightning\\loggers\\wandb.py:389: There is a wandb run already in progress and newly created instances of `WandbLogger` will reuse this run. If this is not desired, call `wandb.finish()` before instantiating `WandbLogger`.\n",
      "2023-10-27 06:11:21,851 INFO MainThread pytorch_lightning.accelerators.cuda LOCAL_RANK: 0 - CUDA_VISIBLE_DEVICES: [0]\n",
      "2023-10-27 06:11:21,856 INFO MainThread pytorch_lightning.callbacks.model_summary \n",
      "  | Name          | Type             | Params\n",
      "---------------------------------------------------\n",
      "0 | model         | DGCNN            | 74.4 K\n",
      "1 | ce_fn         | CrossEntropyLoss | 0     \n",
      "2 | train_loss    | MeanMetric       | 0     \n",
      "3 | val_loss      | MeanMetric       | 0     \n",
      "4 | test_loss     | MeanMetric       | 0     \n",
      "5 | train_metrics | MetricCollection | 0     \n",
      "6 | val_metrics   | MetricCollection | 0     \n",
      "7 | test_metrics  | MetricCollection | 0     \n",
      "---------------------------------------------------\n",
      "74.4 K    Trainable params\n",
      "0         Non-trainable params\n",
      "74.4 K    Total params\n",
      "0.297     Total estimated model params size (MB)\n",
      "C:\\Users\\Georgy\\AppData\\Local\\Programs\\Python\\Python311\\Lib\\site-packages\\pytorch_lightning\\trainer\\connectors\\data_connector.py:441: The 'train_dataloader' does not have many workers which may be a bottleneck. Consider increasing the value of the `num_workers` argument` to `num_workers=7` in the `DataLoader` to improve performance.\n"
     ]
    },
    {
     "name": "stdout",
     "output_type": "stream",
     "text": [
      "Epoch 0: 100%|███████████████████| 187/187 [00:15<00:00, 12.23it/s, v_num=aujf, train_loss=0.692, train_accuracy=0.167]"
     ]
    },
    {
     "name": "stderr",
     "output_type": "stream",
     "text": [
      "2023-10-27 06:11:38,040 DEBUG MainThread fsspec.local open file: C:/Users/Georgy/Desktop/PhD/Skoltech/4term_T1/Neuroimaging_ML/PROJECT/STGATE/experiments/lightning_logs/5w91aujf/checkpoints/epoch=0-step=187.ckpt\n",
      "2023-10-27 06:11:38,120 DEBUG MainThread urllib3.connectionpool Starting new HTTPS connection (1): api.wandb.ai:443\n"
     ]
    },
    {
     "name": "stdout",
     "output_type": "stream",
     "text": [
      "\n",
      "[Train] train_loss: 0.657 train_accuracy: 0.626 \n",
      "\n"
     ]
    },
    {
     "name": "stderr",
     "output_type": "stream",
     "text": [
      "2023-10-27 06:11:39,386 DEBUG MainThread urllib3.connectionpool https://api.wandb.ai:443 \"POST /graphql HTTP/1.1\" 200 None\n"
     ]
    },
    {
     "name": "stdout",
     "output_type": "stream",
     "text": [
      "Epoch 1: 100%|███████████████████| 187/187 [00:18<00:00, 10.11it/s, v_num=aujf, train_loss=0.616, train_accuracy=0.667]\n",
      "[Train] train_loss: 0.624 train_accuracy: 0.653 \n",
      "\n"
     ]
    },
    {
     "name": "stderr",
     "output_type": "stream",
     "text": [
      "2023-10-27 06:11:57,945 DEBUG MainThread fsspec.local open file: C:/Users/Georgy/Desktop/PhD/Skoltech/4term_T1/Neuroimaging_ML/PROJECT/STGATE/experiments/lightning_logs/5w91aujf/checkpoints/epoch=1-step=374.ckpt\n",
      "2023-10-27 06:11:58,007 DEBUG MainThread urllib3.connectionpool Starting new HTTPS connection (1): api.wandb.ai:443\n",
      "2023-10-27 06:11:59,536 DEBUG MainThread urllib3.connectionpool https://api.wandb.ai:443 \"POST /graphql HTTP/1.1\" 200 None\n"
     ]
    },
    {
     "name": "stdout",
     "output_type": "stream",
     "text": [
      "Epoch 2: 100%|███████████████████| 187/187 [00:17<00:00, 10.97it/s, v_num=aujf, train_loss=1.080, train_accuracy=0.333]"
     ]
    },
    {
     "name": "stderr",
     "output_type": "stream",
     "text": [
      "2023-10-27 06:12:16,660 DEBUG MainThread fsspec.local open file: C:/Users/Georgy/Desktop/PhD/Skoltech/4term_T1/Neuroimaging_ML/PROJECT/STGATE/experiments/lightning_logs/5w91aujf/checkpoints/epoch=2-step=561.ckpt\n"
     ]
    },
    {
     "name": "stdout",
     "output_type": "stream",
     "text": [
      "\n",
      "[Train] train_loss: 0.608 train_accuracy: 0.658 \n",
      "\n"
     ]
    },
    {
     "name": "stderr",
     "output_type": "stream",
     "text": [
      "2023-10-27 06:12:16,716 DEBUG MainThread urllib3.connectionpool Starting new HTTPS connection (1): api.wandb.ai:443\n",
      "2023-10-27 06:12:18,109 DEBUG MainThread urllib3.connectionpool https://api.wandb.ai:443 \"POST /graphql HTTP/1.1\" 200 None\n"
     ]
    },
    {
     "name": "stdout",
     "output_type": "stream",
     "text": [
      "Epoch 3: 100%|███████████████████| 187/187 [00:17<00:00, 10.71it/s, v_num=aujf, train_loss=0.865, train_accuracy=0.500]"
     ]
    },
    {
     "name": "stderr",
     "output_type": "stream",
     "text": [
      "2023-10-27 06:12:35,649 DEBUG MainThread fsspec.local open file: C:/Users/Georgy/Desktop/PhD/Skoltech/4term_T1/Neuroimaging_ML/PROJECT/STGATE/experiments/lightning_logs/5w91aujf/checkpoints/epoch=3-step=748.ckpt\n"
     ]
    },
    {
     "name": "stdout",
     "output_type": "stream",
     "text": [
      "\n",
      "[Train] train_loss: 0.594 train_accuracy: 0.662 \n",
      "\n"
     ]
    },
    {
     "name": "stderr",
     "output_type": "stream",
     "text": [
      "2023-10-27 06:12:35,690 DEBUG MainThread urllib3.connectionpool Starting new HTTPS connection (1): api.wandb.ai:443\n",
      "2023-10-27 06:12:37,287 DEBUG MainThread urllib3.connectionpool https://api.wandb.ai:443 \"POST /graphql HTTP/1.1\" 200 None\n"
     ]
    },
    {
     "name": "stdout",
     "output_type": "stream",
     "text": [
      "Epoch 4: 100%|███████████████████| 187/187 [00:19<00:00,  9.40it/s, v_num=aujf, train_loss=0.692, train_accuracy=0.333]\n",
      "[Train] train_loss: 0.595 train_accuracy: 0.665 \n",
      "\n"
     ]
    },
    {
     "name": "stderr",
     "output_type": "stream",
     "text": [
      "2023-10-27 06:12:57,243 DEBUG MainThread fsspec.local open file: C:/Users/Georgy/Desktop/PhD/Skoltech/4term_T1/Neuroimaging_ML/PROJECT/STGATE/experiments/lightning_logs/5w91aujf/checkpoints/epoch=4-step=935.ckpt\n",
      "2023-10-27 06:12:57,266 DEBUG MainThread urllib3.connectionpool Starting new HTTPS connection (1): api.wandb.ai:443\n",
      "2023-10-27 06:12:58,710 DEBUG MainThread urllib3.connectionpool https://api.wandb.ai:443 \"POST /graphql HTTP/1.1\" 200 None\n"
     ]
    },
    {
     "name": "stdout",
     "output_type": "stream",
     "text": [
      "Epoch 5: 100%|███████████████████| 187/187 [00:18<00:00, 10.05it/s, v_num=aujf, train_loss=0.625, train_accuracy=0.667]"
     ]
    },
    {
     "name": "stderr",
     "output_type": "stream",
     "text": [
      "2023-10-27 06:13:17,370 DEBUG MainThread fsspec.local open file: C:/Users/Georgy/Desktop/PhD/Skoltech/4term_T1/Neuroimaging_ML/PROJECT/STGATE/experiments/lightning_logs/5w91aujf/checkpoints/epoch=5-step=1122.ckpt\n",
      "2023-10-27 06:13:17,414 DEBUG MainThread urllib3.connectionpool Starting new HTTPS connection (1): api.wandb.ai:443\n"
     ]
    },
    {
     "name": "stdout",
     "output_type": "stream",
     "text": [
      "\n",
      "[Train] train_loss: 0.593 train_accuracy: 0.664 \n",
      "\n"
     ]
    },
    {
     "name": "stderr",
     "output_type": "stream",
     "text": [
      "2023-10-27 06:13:19,021 DEBUG MainThread urllib3.connectionpool https://api.wandb.ai:443 \"POST /graphql HTTP/1.1\" 200 None\n"
     ]
    },
    {
     "name": "stdout",
     "output_type": "stream",
     "text": [
      "Epoch 6: 100%|███████████████████| 187/187 [00:21<00:00,  8.90it/s, v_num=aujf, train_loss=0.556, train_accuracy=0.667]"
     ]
    },
    {
     "name": "stderr",
     "output_type": "stream",
     "text": [
      "2023-10-27 06:13:40,105 DEBUG MainThread fsspec.local open file: C:/Users/Georgy/Desktop/PhD/Skoltech/4term_T1/Neuroimaging_ML/PROJECT/STGATE/experiments/lightning_logs/5w91aujf/checkpoints/epoch=6-step=1309.ckpt\n"
     ]
    },
    {
     "name": "stdout",
     "output_type": "stream",
     "text": [
      "\n",
      "[Train] train_loss: 0.579 train_accuracy: 0.677 \n",
      "\n"
     ]
    },
    {
     "name": "stderr",
     "output_type": "stream",
     "text": [
      "2023-10-27 06:13:40,141 DEBUG MainThread urllib3.connectionpool Starting new HTTPS connection (1): api.wandb.ai:443\n",
      "2023-10-27 06:13:41,369 DEBUG MainThread urllib3.connectionpool https://api.wandb.ai:443 \"POST /graphql HTTP/1.1\" 200 None\n"
     ]
    },
    {
     "name": "stdout",
     "output_type": "stream",
     "text": [
      "Epoch 7: 100%|███████████████████| 187/187 [00:15<00:00, 12.14it/s, v_num=aujf, train_loss=0.518, train_accuracy=0.667]"
     ]
    },
    {
     "name": "stderr",
     "output_type": "stream",
     "text": [
      "2023-10-27 06:13:56,828 DEBUG MainThread fsspec.local open file: C:/Users/Georgy/Desktop/PhD/Skoltech/4term_T1/Neuroimaging_ML/PROJECT/STGATE/experiments/lightning_logs/5w91aujf/checkpoints/epoch=7-step=1496.ckpt\n",
      "2023-10-27 06:13:56,855 DEBUG MainThread urllib3.connectionpool Starting new HTTPS connection (1): api.wandb.ai:443\n"
     ]
    },
    {
     "name": "stdout",
     "output_type": "stream",
     "text": [
      "\n",
      "[Train] train_loss: 0.576 train_accuracy: 0.672 \n",
      "\n"
     ]
    },
    {
     "name": "stderr",
     "output_type": "stream",
     "text": [
      "2023-10-27 06:13:58,074 DEBUG MainThread urllib3.connectionpool https://api.wandb.ai:443 \"POST /graphql HTTP/1.1\" 200 None\n"
     ]
    },
    {
     "name": "stdout",
     "output_type": "stream",
     "text": [
      "Epoch 8: 100%|███████████████████| 187/187 [00:18<00:00,  9.95it/s, v_num=aujf, train_loss=0.421, train_accuracy=0.833]"
     ]
    },
    {
     "name": "stderr",
     "output_type": "stream",
     "text": [
      "2023-10-27 06:14:16,936 DEBUG MainThread fsspec.local open file: C:/Users/Georgy/Desktop/PhD/Skoltech/4term_T1/Neuroimaging_ML/PROJECT/STGATE/experiments/lightning_logs/5w91aujf/checkpoints/epoch=8-step=1683.ckpt\n",
      "2023-10-27 06:14:16,978 DEBUG MainThread urllib3.connectionpool Starting new HTTPS connection (1): api.wandb.ai:443\n"
     ]
    },
    {
     "name": "stdout",
     "output_type": "stream",
     "text": [
      "\n",
      "[Train] train_loss: 0.568 train_accuracy: 0.676 \n",
      "\n"
     ]
    },
    {
     "name": "stderr",
     "output_type": "stream",
     "text": [
      "2023-10-27 06:14:18,450 DEBUG MainThread urllib3.connectionpool https://api.wandb.ai:443 \"POST /graphql HTTP/1.1\" 200 None\n"
     ]
    },
    {
     "name": "stdout",
     "output_type": "stream",
     "text": [
      "Epoch 9: 100%|███████████████████| 187/187 [00:15<00:00, 12.25it/s, v_num=aujf, train_loss=0.497, train_accuracy=0.667]"
     ]
    },
    {
     "name": "stderr",
     "output_type": "stream",
     "text": [
      "2023-10-27 06:14:33,792 DEBUG MainThread fsspec.local open file: C:/Users/Georgy/Desktop/PhD/Skoltech/4term_T1/Neuroimaging_ML/PROJECT/STGATE/experiments/lightning_logs/5w91aujf/checkpoints/epoch=9-step=1870.ckpt\n"
     ]
    },
    {
     "name": "stdout",
     "output_type": "stream",
     "text": [
      "\n",
      "[Train] train_loss: 0.568 train_accuracy: 0.683 \n",
      "\n"
     ]
    },
    {
     "name": "stderr",
     "output_type": "stream",
     "text": [
      "2023-10-27 06:14:33,850 DEBUG MainThread urllib3.connectionpool Starting new HTTPS connection (1): api.wandb.ai:443\n",
      "2023-10-27 06:14:34,951 DEBUG MainThread urllib3.connectionpool https://api.wandb.ai:443 \"POST /graphql HTTP/1.1\" 200 None\n"
     ]
    },
    {
     "name": "stdout",
     "output_type": "stream",
     "text": [
      "Epoch 10: 100%|██████████████████| 187/187 [00:16<00:00, 11.06it/s, v_num=aujf, train_loss=0.557, train_accuracy=0.333]"
     ]
    },
    {
     "name": "stderr",
     "output_type": "stream",
     "text": [
      "2023-10-27 06:14:51,932 DEBUG MainThread fsspec.local open file: C:/Users/Georgy/Desktop/PhD/Skoltech/4term_T1/Neuroimaging_ML/PROJECT/STGATE/experiments/lightning_logs/5w91aujf/checkpoints/epoch=10-step=2057.ckpt\n"
     ]
    },
    {
     "name": "stdout",
     "output_type": "stream",
     "text": [
      "\n",
      "[Train] train_loss: 0.563 train_accuracy: 0.681 \n",
      "\n"
     ]
    },
    {
     "name": "stderr",
     "output_type": "stream",
     "text": [
      "2023-10-27 06:14:51,975 DEBUG MainThread urllib3.connectionpool Starting new HTTPS connection (1): api.wandb.ai:443\n",
      "2023-10-27 06:14:53,854 DEBUG MainThread urllib3.connectionpool https://api.wandb.ai:443 \"POST /graphql HTTP/1.1\" 200 None\n"
     ]
    },
    {
     "name": "stdout",
     "output_type": "stream",
     "text": [
      "Epoch 11: 100%|██████████████████| 187/187 [00:15<00:00, 12.32it/s, v_num=aujf, train_loss=0.459, train_accuracy=0.833]"
     ]
    },
    {
     "name": "stderr",
     "output_type": "stream",
     "text": [
      "2023-10-27 06:15:09,075 DEBUG MainThread fsspec.local open file: C:/Users/Georgy/Desktop/PhD/Skoltech/4term_T1/Neuroimaging_ML/PROJECT/STGATE/experiments/lightning_logs/5w91aujf/checkpoints/epoch=11-step=2244.ckpt\n"
     ]
    },
    {
     "name": "stdout",
     "output_type": "stream",
     "text": [
      "\n",
      "[Train] train_loss: 0.558 train_accuracy: 0.688 \n",
      "\n"
     ]
    },
    {
     "name": "stderr",
     "output_type": "stream",
     "text": [
      "2023-10-27 06:15:09,093 DEBUG MainThread urllib3.connectionpool Starting new HTTPS connection (1): api.wandb.ai:443\n",
      "2023-10-27 06:15:10,151 DEBUG MainThread urllib3.connectionpool https://api.wandb.ai:443 \"POST /graphql HTTP/1.1\" 200 None\n"
     ]
    },
    {
     "name": "stdout",
     "output_type": "stream",
     "text": [
      "Epoch 12: 100%|██████████████████| 187/187 [00:15<00:00, 12.25it/s, v_num=aujf, train_loss=0.787, train_accuracy=0.333]"
     ]
    },
    {
     "name": "stderr",
     "output_type": "stream",
     "text": [
      "2023-10-27 06:15:25,447 DEBUG MainThread fsspec.local open file: C:/Users/Georgy/Desktop/PhD/Skoltech/4term_T1/Neuroimaging_ML/PROJECT/STGATE/experiments/lightning_logs/5w91aujf/checkpoints/epoch=12-step=2431.ckpt\n",
      "2023-10-27 06:15:25,471 DEBUG MainThread urllib3.connectionpool Starting new HTTPS connection (1): api.wandb.ai:443\n"
     ]
    },
    {
     "name": "stdout",
     "output_type": "stream",
     "text": [
      "\n",
      "[Train] train_loss: 0.556 train_accuracy: 0.691 \n",
      "\n"
     ]
    },
    {
     "name": "stderr",
     "output_type": "stream",
     "text": [
      "2023-10-27 06:15:26,688 DEBUG MainThread urllib3.connectionpool https://api.wandb.ai:443 \"POST /graphql HTTP/1.1\" 200 None\n"
     ]
    },
    {
     "name": "stdout",
     "output_type": "stream",
     "text": [
      "Epoch 13: 100%|██████████████████| 187/187 [00:16<00:00, 11.28it/s, v_num=aujf, train_loss=0.466, train_accuracy=0.833]"
     ]
    },
    {
     "name": "stderr",
     "output_type": "stream",
     "text": [
      "2023-10-27 06:15:43,334 DEBUG MainThread fsspec.local open file: C:/Users/Georgy/Desktop/PhD/Skoltech/4term_T1/Neuroimaging_ML/PROJECT/STGATE/experiments/lightning_logs/5w91aujf/checkpoints/epoch=13-step=2618.ckpt\n",
      "2023-10-27 06:15:43,386 DEBUG MainThread urllib3.connectionpool Starting new HTTPS connection (1): api.wandb.ai:443\n"
     ]
    },
    {
     "name": "stdout",
     "output_type": "stream",
     "text": [
      "\n",
      "[Train] train_loss: 0.559 train_accuracy: 0.686 \n",
      "\n"
     ]
    },
    {
     "name": "stderr",
     "output_type": "stream",
     "text": [
      "2023-10-27 06:15:45,049 DEBUG MainThread urllib3.connectionpool https://api.wandb.ai:443 \"POST /graphql HTTP/1.1\" 200 None\n"
     ]
    },
    {
     "name": "stdout",
     "output_type": "stream",
     "text": [
      "Epoch 14: 100%|██████████████████| 187/187 [00:16<00:00, 11.53it/s, v_num=aujf, train_loss=0.514, train_accuracy=0.667]\n",
      "[Train] train_loss: 0.554 train_accuracy: 0.683 \n",
      "\n"
     ]
    },
    {
     "name": "stderr",
     "output_type": "stream",
     "text": [
      "2023-10-27 06:16:01,303 DEBUG MainThread fsspec.local open file: C:/Users/Georgy/Desktop/PhD/Skoltech/4term_T1/Neuroimaging_ML/PROJECT/STGATE/experiments/lightning_logs/5w91aujf/checkpoints/epoch=14-step=2805.ckpt\n",
      "2023-10-27 06:16:01,324 DEBUG MainThread urllib3.connectionpool Starting new HTTPS connection (1): api.wandb.ai:443\n",
      "2023-10-27 06:16:03,312 DEBUG MainThread urllib3.connectionpool https://api.wandb.ai:443 \"POST /graphql HTTP/1.1\" 200 None\n"
     ]
    },
    {
     "name": "stdout",
     "output_type": "stream",
     "text": [
      "Epoch 15: 100%|██████████████████| 187/187 [00:13<00:00, 13.64it/s, v_num=aujf, train_loss=0.635, train_accuracy=0.500]"
     ]
    },
    {
     "name": "stderr",
     "output_type": "stream",
     "text": [
      "2023-10-27 06:16:17,071 DEBUG MainThread fsspec.local open file: C:/Users/Georgy/Desktop/PhD/Skoltech/4term_T1/Neuroimaging_ML/PROJECT/STGATE/experiments/lightning_logs/5w91aujf/checkpoints/epoch=15-step=2992.ckpt\n",
      "2023-10-27 06:16:17,110 DEBUG MainThread urllib3.connectionpool Starting new HTTPS connection (1): api.wandb.ai:443\n"
     ]
    },
    {
     "name": "stdout",
     "output_type": "stream",
     "text": [
      "\n",
      "[Train] train_loss: 0.545 train_accuracy: 0.699 \n",
      "\n"
     ]
    },
    {
     "name": "stderr",
     "output_type": "stream",
     "text": [
      "2023-10-27 06:16:18,278 DEBUG MainThread urllib3.connectionpool https://api.wandb.ai:443 \"POST /graphql HTTP/1.1\" 200 None\n"
     ]
    },
    {
     "name": "stdout",
     "output_type": "stream",
     "text": [
      "Epoch 16: 100%|██████████████████| 187/187 [00:12<00:00, 14.79it/s, v_num=aujf, train_loss=0.519, train_accuracy=0.833]"
     ]
    },
    {
     "name": "stderr",
     "output_type": "stream",
     "text": [
      "2023-10-27 06:16:30,956 DEBUG MainThread fsspec.local open file: C:/Users/Georgy/Desktop/PhD/Skoltech/4term_T1/Neuroimaging_ML/PROJECT/STGATE/experiments/lightning_logs/5w91aujf/checkpoints/epoch=16-step=3179.ckpt\n",
      "2023-10-27 06:16:30,974 DEBUG MainThread urllib3.connectionpool Starting new HTTPS connection (1): api.wandb.ai:443\n"
     ]
    },
    {
     "name": "stdout",
     "output_type": "stream",
     "text": [
      "\n",
      "[Train] train_loss: 0.536 train_accuracy: 0.710 \n",
      "\n"
     ]
    },
    {
     "name": "stderr",
     "output_type": "stream",
     "text": [
      "2023-10-27 06:16:31,966 DEBUG MainThread urllib3.connectionpool https://api.wandb.ai:443 \"POST /graphql HTTP/1.1\" 200 None\n"
     ]
    },
    {
     "name": "stdout",
     "output_type": "stream",
     "text": [
      "Epoch 17: 100%|██████████████████| 187/187 [00:13<00:00, 13.99it/s, v_num=aujf, train_loss=0.529, train_accuracy=0.667]\n",
      "[Train] train_loss: 0.539 train_accuracy: 0.698 \n",
      "\n"
     ]
    },
    {
     "name": "stderr",
     "output_type": "stream",
     "text": [
      "2023-10-27 06:16:45,391 DEBUG MainThread fsspec.local open file: C:/Users/Georgy/Desktop/PhD/Skoltech/4term_T1/Neuroimaging_ML/PROJECT/STGATE/experiments/lightning_logs/5w91aujf/checkpoints/epoch=17-step=3366.ckpt\n",
      "2023-10-27 06:16:45,427 DEBUG MainThread urllib3.connectionpool Starting new HTTPS connection (1): api.wandb.ai:443\n",
      "2023-10-27 06:16:46,703 DEBUG MainThread urllib3.connectionpool https://api.wandb.ai:443 \"POST /graphql HTTP/1.1\" 200 None\n"
     ]
    },
    {
     "name": "stdout",
     "output_type": "stream",
     "text": [
      "Epoch 18: 100%|██████████████████| 187/187 [00:17<00:00, 10.47it/s, v_num=aujf, train_loss=0.839, train_accuracy=0.167]\n",
      "[Train] train_loss: 0.532 train_accuracy: 0.705 \n",
      "\n"
     ]
    },
    {
     "name": "stderr",
     "output_type": "stream",
     "text": [
      "2023-10-27 06:17:04,623 DEBUG MainThread fsspec.local open file: C:/Users/Georgy/Desktop/PhD/Skoltech/4term_T1/Neuroimaging_ML/PROJECT/STGATE/experiments/lightning_logs/5w91aujf/checkpoints/epoch=18-step=3553.ckpt\n",
      "2023-10-27 06:17:04,676 DEBUG MainThread urllib3.connectionpool Starting new HTTPS connection (1): api.wandb.ai:443\n",
      "2023-10-27 06:17:06,855 DEBUG MainThread urllib3.connectionpool https://api.wandb.ai:443 \"POST /graphql HTTP/1.1\" 200 None\n"
     ]
    },
    {
     "name": "stdout",
     "output_type": "stream",
     "text": [
      "Epoch 19: 100%|██████████████████| 187/187 [00:13<00:00, 13.81it/s, v_num=aujf, train_loss=0.577, train_accuracy=0.667]\n",
      "[Train] train_loss: 0.530 train_accuracy: 0.716 \n",
      "\n"
     ]
    },
    {
     "name": "stderr",
     "output_type": "stream",
     "text": [
      "2023-10-27 06:17:20,457 DEBUG MainThread fsspec.local open file: C:/Users/Georgy/Desktop/PhD/Skoltech/4term_T1/Neuroimaging_ML/PROJECT/STGATE/experiments/lightning_logs/5w91aujf/checkpoints/epoch=19-step=3740.ckpt\n",
      "2023-10-27 06:17:20,500 DEBUG MainThread urllib3.connectionpool Starting new HTTPS connection (1): api.wandb.ai:443\n",
      "2023-10-27 06:17:22,011 DEBUG MainThread urllib3.connectionpool https://api.wandb.ai:443 \"POST /graphql HTTP/1.1\" 200 None\n"
     ]
    },
    {
     "name": "stdout",
     "output_type": "stream",
     "text": [
      "Epoch 20: 100%|██████████████████| 187/187 [00:17<00:00, 10.78it/s, v_num=aujf, train_loss=0.584, train_accuracy=0.667]\n",
      "[Train] train_loss: 0.526 train_accuracy: 0.709 \n",
      "\n"
     ]
    },
    {
     "name": "stderr",
     "output_type": "stream",
     "text": [
      "2023-10-27 06:17:39,406 DEBUG MainThread fsspec.local open file: C:/Users/Georgy/Desktop/PhD/Skoltech/4term_T1/Neuroimaging_ML/PROJECT/STGATE/experiments/lightning_logs/5w91aujf/checkpoints/epoch=20-step=3927.ckpt\n",
      "2023-10-27 06:17:39,439 DEBUG MainThread urllib3.connectionpool Starting new HTTPS connection (1): api.wandb.ai:443\n",
      "2023-10-27 06:17:40,859 DEBUG MainThread urllib3.connectionpool https://api.wandb.ai:443 \"POST /graphql HTTP/1.1\" 200 None\n"
     ]
    },
    {
     "name": "stdout",
     "output_type": "stream",
     "text": [
      "Epoch 21: 100%|██████████████████| 187/187 [00:15<00:00, 12.34it/s, v_num=aujf, train_loss=0.602, train_accuracy=0.500]\n",
      "[Train] train_loss: 0.518 train_accuracy: 0.713 \n"
     ]
    },
    {
     "name": "stderr",
     "output_type": "stream",
     "text": [
      "2023-10-27 06:17:56,071 DEBUG MainThread fsspec.local open file: C:/Users/Georgy/Desktop/PhD/Skoltech/4term_T1/Neuroimaging_ML/PROJECT/STGATE/experiments/lightning_logs/5w91aujf/checkpoints/epoch=21-step=4114.ckpt\n",
      "2023-10-27 06:17:56,110 DEBUG MainThread urllib3.connectionpool Starting new HTTPS connection (1): api.wandb.ai:443\n"
     ]
    },
    {
     "name": "stdout",
     "output_type": "stream",
     "text": [
      "\n"
     ]
    },
    {
     "name": "stderr",
     "output_type": "stream",
     "text": [
      "2023-10-27 06:17:57,362 DEBUG MainThread urllib3.connectionpool https://api.wandb.ai:443 \"POST /graphql HTTP/1.1\" 200 None\n"
     ]
    },
    {
     "name": "stdout",
     "output_type": "stream",
     "text": [
      "Epoch 22: 100%|██████████████████| 187/187 [00:11<00:00, 16.85it/s, v_num=aujf, train_loss=0.473, train_accuracy=0.833]"
     ]
    },
    {
     "name": "stderr",
     "output_type": "stream",
     "text": [
      "2023-10-27 06:18:08,502 DEBUG MainThread fsspec.local open file: C:/Users/Georgy/Desktop/PhD/Skoltech/4term_T1/Neuroimaging_ML/PROJECT/STGATE/experiments/lightning_logs/5w91aujf/checkpoints/epoch=22-step=4301.ckpt\n",
      "2023-10-27 06:18:08,522 DEBUG MainThread urllib3.connectionpool Starting new HTTPS connection (1): api.wandb.ai:443\n"
     ]
    },
    {
     "name": "stdout",
     "output_type": "stream",
     "text": [
      "\n",
      "[Train] train_loss: 0.521 train_accuracy: 0.713 \n",
      "\n"
     ]
    },
    {
     "name": "stderr",
     "output_type": "stream",
     "text": [
      "2023-10-27 06:18:09,339 DEBUG MainThread urllib3.connectionpool https://api.wandb.ai:443 \"POST /graphql HTTP/1.1\" 200 None\n"
     ]
    },
    {
     "name": "stdout",
     "output_type": "stream",
     "text": [
      "Epoch 23: 100%|██████████████████| 187/187 [00:15<00:00, 11.81it/s, v_num=aujf, train_loss=0.526, train_accuracy=0.667]\n",
      "[Train] train_loss: 0.512 train_accuracy: 0.720 \n",
      "\n"
     ]
    },
    {
     "name": "stderr",
     "output_type": "stream",
     "text": [
      "2023-10-27 06:18:25,226 DEBUG MainThread fsspec.local open file: C:/Users/Georgy/Desktop/PhD/Skoltech/4term_T1/Neuroimaging_ML/PROJECT/STGATE/experiments/lightning_logs/5w91aujf/checkpoints/epoch=23-step=4488.ckpt\n",
      "2023-10-27 06:18:25,264 DEBUG MainThread urllib3.connectionpool Starting new HTTPS connection (1): api.wandb.ai:443\n",
      "2023-10-27 06:18:26,724 DEBUG MainThread urllib3.connectionpool https://api.wandb.ai:443 \"POST /graphql HTTP/1.1\" 200 None\n"
     ]
    },
    {
     "name": "stdout",
     "output_type": "stream",
     "text": [
      "Epoch 24: 100%|██████████████████| 187/187 [00:16<00:00, 11.30it/s, v_num=aujf, train_loss=0.788, train_accuracy=0.667]"
     ]
    },
    {
     "name": "stderr",
     "output_type": "stream",
     "text": [
      "2023-10-27 06:18:43,334 DEBUG MainThread fsspec.local open file: C:/Users/Georgy/Desktop/PhD/Skoltech/4term_T1/Neuroimaging_ML/PROJECT/STGATE/experiments/lightning_logs/5w91aujf/checkpoints/epoch=24-step=4675.ckpt\n",
      "2023-10-27 06:18:43,377 DEBUG MainThread urllib3.connectionpool Starting new HTTPS connection (1): api.wandb.ai:443\n"
     ]
    },
    {
     "name": "stdout",
     "output_type": "stream",
     "text": [
      "\n",
      "[Train] train_loss: 0.512 train_accuracy: 0.719 \n",
      "\n"
     ]
    },
    {
     "name": "stderr",
     "output_type": "stream",
     "text": [
      "2023-10-27 06:18:44,845 DEBUG MainThread urllib3.connectionpool https://api.wandb.ai:443 \"POST /graphql HTTP/1.1\" 200 None\n"
     ]
    },
    {
     "name": "stdout",
     "output_type": "stream",
     "text": [
      "Epoch 25: 100%|██████████████████| 187/187 [00:15<00:00, 12.10it/s, v_num=aujf, train_loss=0.684, train_accuracy=0.500]"
     ]
    },
    {
     "name": "stderr",
     "output_type": "stream",
     "text": [
      "2023-10-27 06:19:00,366 DEBUG MainThread fsspec.local open file: C:/Users/Georgy/Desktop/PhD/Skoltech/4term_T1/Neuroimaging_ML/PROJECT/STGATE/experiments/lightning_logs/5w91aujf/checkpoints/epoch=25-step=4862.ckpt\n"
     ]
    },
    {
     "name": "stdout",
     "output_type": "stream",
     "text": [
      "\n",
      "[Train] train_loss: 0.511 train_accuracy: 0.725 \n",
      "\n"
     ]
    },
    {
     "name": "stderr",
     "output_type": "stream",
     "text": [
      "2023-10-27 06:19:00,408 DEBUG MainThread urllib3.connectionpool Starting new HTTPS connection (1): api.wandb.ai:443\n",
      "2023-10-27 06:19:01,909 DEBUG MainThread urllib3.connectionpool https://api.wandb.ai:443 \"POST /graphql HTTP/1.1\" 200 None\n"
     ]
    },
    {
     "name": "stdout",
     "output_type": "stream",
     "text": [
      "Epoch 26: 100%|██████████████████| 187/187 [00:18<00:00, 10.35it/s, v_num=aujf, train_loss=0.441, train_accuracy=0.833]\n",
      "[Train] train_loss: 0.507 train_accuracy: 0.717 \n",
      "\n"
     ]
    },
    {
     "name": "stderr",
     "output_type": "stream",
     "text": [
      "2023-10-27 06:19:20,045 DEBUG MainThread fsspec.local open file: C:/Users/Georgy/Desktop/PhD/Skoltech/4term_T1/Neuroimaging_ML/PROJECT/STGATE/experiments/lightning_logs/5w91aujf/checkpoints/epoch=26-step=5049.ckpt\n",
      "2023-10-27 06:19:20,094 DEBUG MainThread urllib3.connectionpool Starting new HTTPS connection (1): api.wandb.ai:443\n",
      "2023-10-27 06:19:21,842 DEBUG MainThread urllib3.connectionpool https://api.wandb.ai:443 \"POST /graphql HTTP/1.1\" 200 None\n"
     ]
    },
    {
     "name": "stdout",
     "output_type": "stream",
     "text": [
      "Epoch 27: 100%|██████████████████| 187/187 [00:19<00:00,  9.52it/s, v_num=aujf, train_loss=0.491, train_accuracy=1.000]"
     ]
    },
    {
     "name": "stderr",
     "output_type": "stream",
     "text": [
      "2023-10-27 06:19:41,542 DEBUG MainThread fsspec.local open file: C:/Users/Georgy/Desktop/PhD/Skoltech/4term_T1/Neuroimaging_ML/PROJECT/STGATE/experiments/lightning_logs/5w91aujf/checkpoints/epoch=27-step=5236.ckpt\n"
     ]
    },
    {
     "name": "stdout",
     "output_type": "stream",
     "text": [
      "\n",
      "[Train] train_loss: 0.508 train_accuracy: 0.718 \n",
      "\n"
     ]
    },
    {
     "name": "stderr",
     "output_type": "stream",
     "text": [
      "2023-10-27 06:19:41,578 DEBUG MainThread urllib3.connectionpool Starting new HTTPS connection (1): api.wandb.ai:443\n",
      "2023-10-27 06:19:43,566 DEBUG MainThread urllib3.connectionpool https://api.wandb.ai:443 \"POST /graphql HTTP/1.1\" 200 None\n"
     ]
    },
    {
     "name": "stdout",
     "output_type": "stream",
     "text": [
      "Epoch 28: 100%|██████████████████| 187/187 [00:16<00:00, 11.03it/s, v_num=aujf, train_loss=0.540, train_accuracy=0.500]\n",
      "[Train] train_loss: 0.499 train_accuracy: 0.730 \n",
      "\n"
     ]
    },
    {
     "name": "stderr",
     "output_type": "stream",
     "text": [
      "2023-10-27 06:20:00,576 DEBUG MainThread fsspec.local open file: C:/Users/Georgy/Desktop/PhD/Skoltech/4term_T1/Neuroimaging_ML/PROJECT/STGATE/experiments/lightning_logs/5w91aujf/checkpoints/epoch=28-step=5423.ckpt\n",
      "2023-10-27 06:20:00,610 DEBUG MainThread urllib3.connectionpool Starting new HTTPS connection (1): api.wandb.ai:443\n",
      "2023-10-27 06:20:02,453 DEBUG MainThread urllib3.connectionpool https://api.wandb.ai:443 \"POST /graphql HTTP/1.1\" 200 None\n"
     ]
    },
    {
     "name": "stdout",
     "output_type": "stream",
     "text": [
      "Epoch 29: 100%|██████████████████| 187/187 [00:20<00:00,  9.01it/s, v_num=aujf, train_loss=0.333, train_accuracy=0.833]\n",
      "[Train] train_loss: 0.501 train_accuracy: 0.727 \n",
      "\n"
     ]
    },
    {
     "name": "stderr",
     "output_type": "stream",
     "text": [
      "2023-10-27 06:20:23,286 DEBUG MainThread fsspec.local open file: C:/Users/Georgy/Desktop/PhD/Skoltech/4term_T1/Neuroimaging_ML/PROJECT/STGATE/experiments/lightning_logs/5w91aujf/checkpoints/epoch=29-step=5610.ckpt\n",
      "2023-10-27 06:20:23,329 DEBUG MainThread urllib3.connectionpool Starting new HTTPS connection (1): api.wandb.ai:443\n",
      "2023-10-27 06:20:25,011 DEBUG MainThread urllib3.connectionpool https://api.wandb.ai:443 \"POST /graphql HTTP/1.1\" 200 None\n"
     ]
    },
    {
     "name": "stdout",
     "output_type": "stream",
     "text": [
      "Epoch 30: 100%|██████████████████| 187/187 [00:18<00:00, 10.03it/s, v_num=aujf, train_loss=0.550, train_accuracy=0.667]"
     ]
    },
    {
     "name": "stderr",
     "output_type": "stream",
     "text": [
      "2023-10-27 06:20:43,737 DEBUG MainThread fsspec.local open file: C:/Users/Georgy/Desktop/PhD/Skoltech/4term_T1/Neuroimaging_ML/PROJECT/STGATE/experiments/lightning_logs/5w91aujf/checkpoints/epoch=30-step=5797.ckpt\n"
     ]
    },
    {
     "name": "stdout",
     "output_type": "stream",
     "text": [
      "\n",
      "[Train] train_loss: 0.493 train_accuracy: 0.737 \n",
      "\n"
     ]
    },
    {
     "name": "stderr",
     "output_type": "stream",
     "text": [
      "2023-10-27 06:20:43,799 DEBUG MainThread urllib3.connectionpool Starting new HTTPS connection (1): api.wandb.ai:443\n",
      "2023-10-27 06:20:45,840 DEBUG MainThread urllib3.connectionpool https://api.wandb.ai:443 \"POST /graphql HTTP/1.1\" 200 None\n"
     ]
    },
    {
     "name": "stdout",
     "output_type": "stream",
     "text": [
      "Epoch 31: 100%|██████████████████| 187/187 [00:20<00:00,  9.08it/s, v_num=aujf, train_loss=0.372, train_accuracy=0.833]"
     ]
    },
    {
     "name": "stderr",
     "output_type": "stream",
     "text": [
      "2023-10-27 06:21:06,503 DEBUG MainThread fsspec.local open file: C:/Users/Georgy/Desktop/PhD/Skoltech/4term_T1/Neuroimaging_ML/PROJECT/STGATE/experiments/lightning_logs/5w91aujf/checkpoints/epoch=31-step=5984.ckpt\n"
     ]
    },
    {
     "name": "stdout",
     "output_type": "stream",
     "text": [
      "\n",
      "[Train] train_loss: 0.495 train_accuracy: 0.741 \n",
      "\n"
     ]
    },
    {
     "name": "stderr",
     "output_type": "stream",
     "text": [
      "2023-10-27 06:21:06,559 DEBUG MainThread urllib3.connectionpool Starting new HTTPS connection (1): api.wandb.ai:443\n",
      "2023-10-27 06:21:08,369 DEBUG MainThread urllib3.connectionpool https://api.wandb.ai:443 \"POST /graphql HTTP/1.1\" 200 None\n"
     ]
    },
    {
     "name": "stdout",
     "output_type": "stream",
     "text": [
      "Epoch 32: 100%|██████████████████| 187/187 [00:25<00:00,  7.31it/s, v_num=aujf, train_loss=0.542, train_accuracy=0.667]\n",
      "[Train] train_loss: 0.490 train_accuracy: 0.730 \n",
      "\n"
     ]
    },
    {
     "name": "stderr",
     "output_type": "stream",
     "text": [
      "2023-10-27 06:21:34,008 DEBUG MainThread fsspec.local open file: C:/Users/Georgy/Desktop/PhD/Skoltech/4term_T1/Neuroimaging_ML/PROJECT/STGATE/experiments/lightning_logs/5w91aujf/checkpoints/epoch=32-step=6171.ckpt\n",
      "2023-10-27 06:21:34,053 DEBUG MainThread urllib3.connectionpool Starting new HTTPS connection (1): api.wandb.ai:443\n",
      "2023-10-27 06:21:35,863 DEBUG MainThread urllib3.connectionpool https://api.wandb.ai:443 \"POST /graphql HTTP/1.1\" 200 None\n"
     ]
    },
    {
     "name": "stdout",
     "output_type": "stream",
     "text": [
      "Epoch 33:  15%|██▊                | 28/187 [00:03<00:19,  8.28it/s, v_num=aujf, train_loss=0.380, train_accuracy=0.750]"
     ]
    }
   ],
   "source": [
    "from torch.utils.data import DataLoader\n",
    "from torcheeg.models import DGCNN\n",
    "\n",
    "from torcheeg.trainers import ClassifierTrainer\n",
    "\n",
    "import pytorch_lightning as pl\n",
    "from pytorch_lightning.loggers import WandbLogger\n",
    "wandb_logger = WandbLogger(log_model=\"all\")\n",
    "\n",
    "\n",
    "for i, (train_dataset, val_dataset) in enumerate(k_fold.split(dataset)):\n",
    "    train_loader = DataLoader(train_dataset, batch_size=16, shuffle=True)\n",
    "    val_loader = DataLoader(val_dataset, batch_size=16, shuffle=False)\n",
    "\n",
    "    model = DGCNN(in_channels=128,\n",
    "                  num_electrodes=14,\n",
    "                  hid_channels=64,\n",
    "                  num_classes=2)\n",
    "\n",
    "    trainer = ClassifierTrainer(model=model,\n",
    "                                num_classes=2,\n",
    "                                lr=1e-4,\n",
    "                                weight_decay=1e-4,\n",
    "                                accelerator=\"gpu\")\n",
    "    trainer.fit(train_loader,\n",
    "                val_loader,\n",
    "                max_epochs=50,\n",
    "                default_root_dir=os.path.join('.', \"dgcnn_model\", f'{i}'),\n",
    "                callbacks=[pl.callbacks.ModelCheckpoint(save_last=True)],\n",
    "                logger=wandb_logger,\n",
    "                enable_progress_bar=True,\n",
    "                enable_model_summary=True,\n",
    "                limit_val_batches=0.0)\n",
    "    score = trainer.test(val_loader,\n",
    "                         enable_progress_bar=True,\n",
    "                         enable_model_summary=True)[0]\n",
    "    print(f'Fold {i} test accuracy: {score[\"test_accuracy\"]:.4f}')"
   ]
  },
  {
   "cell_type": "markdown",
   "id": "6f73677b-e40f-4ef8-af16-9b0c76ca979a",
   "metadata": {},
   "source": [
    "# Valence DREAMER part"
   ]
  },
  {
   "cell_type": "code",
   "execution_count": 5,
   "id": "705d23cd-4502-43c2-bc0d-8cc8ce868b3c",
   "metadata": {},
   "outputs": [
    {
     "name": "stdout",
     "output_type": "stream",
     "text": [
      "dataset already exists at path ..\\data\\dreamer, reading from path...\n"
     ]
    }
   ],
   "source": [
    "dataset = DREAMERDataset(io_path=os.path.join(DATA_DIR, \"dreamer\"),\n",
    "                         mat_path=os.path.join(DATA_DIR, 'DREAMER.mat'),\n",
    "                         online_transform=transforms.ToTensor(),\n",
    "                         offline_transform=transforms.Compose([\n",
    "                             ToG(DREAMER_ADJACENCY_MATRIX)\n",
    "                         ]),\n",
    "                         label_transform=transforms.Compose([\n",
    "                             transforms.Select('valence'),\n",
    "                             transforms.Binary(3.0)\n",
    "                         ]),\n",
    "                         # num_worker=4\n",
    "                        )"
   ]
  },
  {
   "cell_type": "code",
   "execution_count": 6,
   "id": "849dad5b-90c5-44fb-bc10-c841bb6efdaa",
   "metadata": {},
   "outputs": [],
   "source": [
    "from torcheeg.model_selection import KFoldPerSubject\n",
    "\n",
    "SPLIT_PATH = os.path.join(DATA_DIR, 'dreamer_split_valence')\n",
    "k_fold = KFoldPerSubject(n_splits=5,\n",
    "                         split_path=SPLIT_PATH,\n",
    "                         shuffle=True)"
   ]
  },
  {
   "cell_type": "code",
   "execution_count": 7,
   "id": "91def94f-143a-4d1c-9f4a-ee0964823777",
   "metadata": {
    "scrolled": true
   },
   "outputs": [
    {
     "name": "stderr",
     "output_type": "stream",
     "text": [
      "2023-10-27 07:19:06,696 DEBUG MainThread torchaudio._extension.utils Attempting to load FFmpeg version 6.\n",
      "2023-10-27 07:19:08,624 DEBUG MainThread torchaudio._extension.utils Failed to load FFmpeg 6 extension.\n",
      "Traceback (most recent call last):\n",
      "  File \"C:\\Users\\Georgy\\AppData\\Local\\Programs\\Python\\Python311\\Lib\\site-packages\\torchaudio\\_extension\\utils.py\", line 128, in _find_ffmpeg_extension\n",
      "    return _find_versionsed_ffmpeg_extension(ffmpeg_ver)\n",
      "           ^^^^^^^^^^^^^^^^^^^^^^^^^^^^^^^^^^^^^^^^^^^^^\n",
      "  File \"C:\\Users\\Georgy\\AppData\\Local\\Programs\\Python\\Python311\\Lib\\site-packages\\torchaudio\\_extension\\utils.py\", line 113, in _find_versionsed_ffmpeg_extension\n",
      "    _try_access_avutil(ffmpeg_ver)\n",
      "  File \"C:\\Users\\Georgy\\AppData\\Local\\Programs\\Python\\Python311\\Lib\\site-packages\\torchaudio\\_extension\\utils.py\", line 89, in _try_access_avutil\n",
      "    torchaudio.lib._torchaudio.find_avutil(libavutil)\n",
      "RuntimeError: error in LoadLibrary for avutil-58.dll. WinError 126: The specified module could not be found.\n",
      "\n",
      "2023-10-27 07:19:08,631 DEBUG MainThread torchaudio._extension.utils Attempting to load FFmpeg version 5.\n",
      "2023-10-27 07:19:08,636 DEBUG MainThread torchaudio._extension.utils Failed to load FFmpeg 5 extension.\n",
      "Traceback (most recent call last):\n",
      "  File \"C:\\Users\\Georgy\\AppData\\Local\\Programs\\Python\\Python311\\Lib\\site-packages\\torchaudio\\_extension\\utils.py\", line 128, in _find_ffmpeg_extension\n",
      "    return _find_versionsed_ffmpeg_extension(ffmpeg_ver)\n",
      "           ^^^^^^^^^^^^^^^^^^^^^^^^^^^^^^^^^^^^^^^^^^^^^\n",
      "  File \"C:\\Users\\Georgy\\AppData\\Local\\Programs\\Python\\Python311\\Lib\\site-packages\\torchaudio\\_extension\\utils.py\", line 113, in _find_versionsed_ffmpeg_extension\n",
      "    _try_access_avutil(ffmpeg_ver)\n",
      "  File \"C:\\Users\\Georgy\\AppData\\Local\\Programs\\Python\\Python311\\Lib\\site-packages\\torchaudio\\_extension\\utils.py\", line 89, in _try_access_avutil\n",
      "    torchaudio.lib._torchaudio.find_avutil(libavutil)\n",
      "RuntimeError: error in LoadLibrary for avutil-57.dll. WinError 126: The specified module could not be found.\n",
      "\n",
      "2023-10-27 07:19:08,638 DEBUG MainThread torchaudio._extension.utils Attempting to load FFmpeg version 4.\n",
      "2023-10-27 07:19:08,645 DEBUG MainThread torchaudio._extension.utils Failed to load FFmpeg 4 extension.\n",
      "Traceback (most recent call last):\n",
      "  File \"C:\\Users\\Georgy\\AppData\\Local\\Programs\\Python\\Python311\\Lib\\site-packages\\torchaudio\\_extension\\utils.py\", line 128, in _find_ffmpeg_extension\n",
      "    return _find_versionsed_ffmpeg_extension(ffmpeg_ver)\n",
      "           ^^^^^^^^^^^^^^^^^^^^^^^^^^^^^^^^^^^^^^^^^^^^^\n",
      "  File \"C:\\Users\\Georgy\\AppData\\Local\\Programs\\Python\\Python311\\Lib\\site-packages\\torchaudio\\_extension\\utils.py\", line 113, in _find_versionsed_ffmpeg_extension\n",
      "    _try_access_avutil(ffmpeg_ver)\n",
      "  File \"C:\\Users\\Georgy\\AppData\\Local\\Programs\\Python\\Python311\\Lib\\site-packages\\torchaudio\\_extension\\utils.py\", line 89, in _try_access_avutil\n",
      "    torchaudio.lib._torchaudio.find_avutil(libavutil)\n",
      "RuntimeError: error in LoadLibrary for avutil-56.dll. WinError 126: The specified module could not be found.\n",
      "\n",
      "2023-10-27 07:19:08,647 DEBUG MainThread torchaudio._extension Failed to initialize ffmpeg bindings\n",
      "Traceback (most recent call last):\n",
      "  File \"C:\\Users\\Georgy\\AppData\\Local\\Programs\\Python\\Python311\\Lib\\site-packages\\torchaudio\\_extension\\__init__.py\", line 89, in <module>\n",
      "    _FFMPEG_EXT = _init_ffmpeg()\n",
      "                  ^^^^^^^^^^^^^^\n",
      "  File \"C:\\Users\\Georgy\\AppData\\Local\\Programs\\Python\\Python311\\Lib\\site-packages\\torchaudio\\_extension\\utils.py\", line 162, in _init_ffmpeg\n",
      "    ext = _find_ffmpeg_extension(ffmpeg_vers, show_error)\n",
      "          ^^^^^^^^^^^^^^^^^^^^^^^^^^^^^^^^^^^^^^^^^^^^^^^\n",
      "  File \"C:\\Users\\Georgy\\AppData\\Local\\Programs\\Python\\Python311\\Lib\\site-packages\\torchaudio\\_extension\\utils.py\", line 132, in _find_ffmpeg_extension\n",
      "    raise ImportError(f\"Failed to intialize FFmpeg extension. Tried versions: {ffmpeg_vers}\")\n",
      "ImportError: Failed to intialize FFmpeg extension. Tried versions: ['6', '5', '4']\n",
      "2023-10-27 07:19:17,615 INFO MainThread pytorch_lightning.utilities.rank_zero GPU available: True (cuda), used: True\n",
      "2023-10-27 07:19:17,762 INFO MainThread pytorch_lightning.utilities.rank_zero TPU available: False, using: 0 TPU cores\n",
      "2023-10-27 07:19:17,763 INFO MainThread pytorch_lightning.utilities.rank_zero IPU available: False, using: 0 IPUs\n",
      "2023-10-27 07:19:17,764 INFO MainThread pytorch_lightning.utilities.rank_zero HPU available: False, using: 0 HPUs\n",
      "2023-10-27 07:19:19,379 DEBUG MainThread git.cmd Popen(['git', 'version'], cwd=C:\\Users\\Georgy\\Desktop\\PhD\\Skoltech\\4term_T1\\Neuroimaging_ML\\PROJECT\\STGATE\\experiments, universal_newlines=False, shell=None, istream=None)\n",
      "2023-10-27 07:19:19,547 DEBUG MainThread git.cmd Popen(['git', 'version'], cwd=C:\\Users\\Georgy\\Desktop\\PhD\\Skoltech\\4term_T1\\Neuroimaging_ML\\PROJECT\\STGATE\\experiments, universal_newlines=False, shell=None, istream=None)\n",
      "2023-10-27 07:19:19,778 DEBUG MainThread wandb.docker.auth Trying paths: ['C:\\\\Users\\\\Georgy\\\\.docker\\\\config.json', 'C:\\\\Users\\\\Georgy\\\\.dockercfg']\n",
      "2023-10-27 07:19:19,780 DEBUG MainThread wandb.docker.auth Found file at path: C:\\Users\\Georgy\\.docker\\config.json\n",
      "2023-10-27 07:19:19,785 DEBUG MainThread wandb.docker.auth Found 'credsStore' section\n",
      "2023-10-27 07:19:20,302 DEBUG MainThread sentry_sdk.errors [Tracing] Create new propagation context: {'trace_id': '89e51afe3e64440ba2c6ad1b916d9721', 'span_id': '938e8c03c64b8881', 'parent_span_id': None, 'dynamic_sampling_context': None}\n",
      "2023-10-27 07:19:21,801 DEBUG MainThread urllib3.connectionpool Starting new HTTP connection (1): localhost:8889\n",
      "2023-10-27 07:19:25,875 ERROR MainThread wandb.jupyter Failed to detect the name of this notebook, you can set it manually with the WANDB_NOTEBOOK_NAME environment variable to enable code saving.\n",
      "2023-10-27 07:19:28,452 DEBUG Thread-9 (wrapped_target) urllib3.connectionpool Starting new HTTPS connection (1): api.wandb.ai:443\n",
      "2023-10-27 07:19:29,259 DEBUG Thread-9 (wrapped_target) urllib3.connectionpool https://api.wandb.ai:443 \"POST /graphql HTTP/1.1\" 200 None\n",
      "2023-10-27 07:19:29,441 DEBUG Thread-9 (wrapped_target) urllib3.connectionpool https://api.wandb.ai:443 \"POST /graphql HTTP/1.1\" 200 None\n",
      "\u001b[34m\u001b[1mwandb\u001b[0m: Currently logged in as: \u001b[33mgkormakov\u001b[0m (\u001b[33mmrph2898\u001b[0m). Use \u001b[1m`wandb login --relogin`\u001b[0m to force relogin\n",
      "2023-10-27 07:19:29,501 DEBUG MainThread git.cmd Popen(['git', 'cat-file', '--batch-check'], cwd=C:\\Users\\Georgy\\Desktop\\PhD\\Skoltech\\4term_T1\\Neuroimaging_ML\\PROJECT\\STGATE, universal_newlines=False, shell=None, istream=<valid stream>)\n"
     ]
    },
    {
     "data": {
      "text/html": [
       "Tracking run with wandb version 0.15.12"
      ],
      "text/plain": [
       "<IPython.core.display.HTML object>"
      ]
     },
     "metadata": {},
     "output_type": "display_data"
    },
    {
     "data": {
      "text/html": [
       "Run data is saved locally in <code>.\\wandb\\run-20231027_071929-lui8gby9</code>"
      ],
      "text/plain": [
       "<IPython.core.display.HTML object>"
      ]
     },
     "metadata": {},
     "output_type": "display_data"
    },
    {
     "data": {
      "text/html": [
       "Syncing run <strong><a href='https://wandb.ai/mrph2898/lightning_logs/runs/lui8gby9' target=\"_blank\">floral-frog-3</a></strong> to <a href='https://wandb.ai/mrph2898/lightning_logs' target=\"_blank\">Weights & Biases</a> (<a href='https://wandb.me/run' target=\"_blank\">docs</a>)<br/>"
      ],
      "text/plain": [
       "<IPython.core.display.HTML object>"
      ]
     },
     "metadata": {},
     "output_type": "display_data"
    },
    {
     "data": {
      "text/html": [
       " View project at <a href='https://wandb.ai/mrph2898/lightning_logs' target=\"_blank\">https://wandb.ai/mrph2898/lightning_logs</a>"
      ],
      "text/plain": [
       "<IPython.core.display.HTML object>"
      ]
     },
     "metadata": {},
     "output_type": "display_data"
    },
    {
     "data": {
      "text/html": [
       " View run at <a href='https://wandb.ai/mrph2898/lightning_logs/runs/lui8gby9' target=\"_blank\">https://wandb.ai/mrph2898/lightning_logs/runs/lui8gby9</a>"
      ],
      "text/plain": [
       "<IPython.core.display.HTML object>"
      ]
     },
     "metadata": {},
     "output_type": "display_data"
    },
    {
     "name": "stderr",
     "output_type": "stream",
     "text": [
      "2023-10-27 07:19:33,669 INFO MainThread pytorch_lightning.accelerators.cuda LOCAL_RANK: 0 - CUDA_VISIBLE_DEVICES: [0]\n",
      "2023-10-27 07:19:33,677 INFO MainThread pytorch_lightning.callbacks.model_summary \n",
      "  | Name          | Type             | Params\n",
      "---------------------------------------------------\n",
      "0 | model         | DGCNN            | 74.4 K\n",
      "1 | ce_fn         | CrossEntropyLoss | 0     \n",
      "2 | train_loss    | MeanMetric       | 0     \n",
      "3 | val_loss      | MeanMetric       | 0     \n",
      "4 | test_loss     | MeanMetric       | 0     \n",
      "5 | train_metrics | MetricCollection | 0     \n",
      "6 | val_metrics   | MetricCollection | 0     \n",
      "7 | test_metrics  | MetricCollection | 0     \n",
      "---------------------------------------------------\n",
      "74.4 K    Trainable params\n",
      "0         Non-trainable params\n",
      "74.4 K    Total params\n",
      "0.297     Total estimated model params size (MB)\n",
      "C:\\Users\\Georgy\\AppData\\Local\\Programs\\Python\\Python311\\Lib\\site-packages\\pytorch_lightning\\trainer\\connectors\\data_connector.py:441: The 'train_dataloader' does not have many workers which may be a bottleneck. Consider increasing the value of the `num_workers` argument` to `num_workers=7` in the `DataLoader` to improve performance.\n"
     ]
    },
    {
     "name": "stdout",
     "output_type": "stream",
     "text": [
      "Epoch 0: 100%|███████████████████| 187/187 [00:13<00:00, 13.55it/s, v_num=gby9, train_loss=0.738, train_accuracy=0.167]"
     ]
    },
    {
     "name": "stderr",
     "output_type": "stream",
     "text": [
      "2023-10-27 07:19:49,092 DEBUG MainThread fsspec.local open file: C:/Users/Georgy/Desktop/PhD/Skoltech/4term_T1/Neuroimaging_ML/PROJECT/STGATE/experiments/lightning_logs/lui8gby9/checkpoints/epoch=0-step=187.ckpt\n",
      "2023-10-27 07:19:49,139 DEBUG MainThread urllib3.connectionpool Starting new HTTPS connection (1): api.wandb.ai:443\n"
     ]
    },
    {
     "name": "stdout",
     "output_type": "stream",
     "text": [
      "\n",
      "[Train] train_loss: 0.633 train_accuracy: 0.677 \n",
      "\n"
     ]
    },
    {
     "name": "stderr",
     "output_type": "stream",
     "text": [
      "2023-10-27 07:19:50,314 DEBUG MainThread urllib3.connectionpool https://api.wandb.ai:443 \"POST /graphql HTTP/1.1\" 200 None\n"
     ]
    },
    {
     "name": "stdout",
     "output_type": "stream",
     "text": [
      "Epoch 1: 100%|███████████████████| 187/187 [00:17<00:00, 10.40it/s, v_num=gby9, train_loss=0.577, train_accuracy=0.667]"
     ]
    },
    {
     "name": "stderr",
     "output_type": "stream",
     "text": [
      "2023-10-27 07:20:08,363 DEBUG MainThread fsspec.local open file: C:/Users/Georgy/Desktop/PhD/Skoltech/4term_T1/Neuroimaging_ML/PROJECT/STGATE/experiments/lightning_logs/lui8gby9/checkpoints/epoch=1-step=374.ckpt\n"
     ]
    },
    {
     "name": "stdout",
     "output_type": "stream",
     "text": [
      "\n",
      "[Train] train_loss: 0.583 train_accuracy: 0.693 \n",
      "\n"
     ]
    },
    {
     "name": "stderr",
     "output_type": "stream",
     "text": [
      "2023-10-27 07:20:08,417 DEBUG MainThread urllib3.connectionpool Starting new HTTPS connection (1): api.wandb.ai:443\n",
      "2023-10-27 07:20:10,296 DEBUG MainThread urllib3.connectionpool https://api.wandb.ai:443 \"POST /graphql HTTP/1.1\" 200 None\n"
     ]
    },
    {
     "name": "stdout",
     "output_type": "stream",
     "text": [
      "Epoch 2: 100%|███████████████████| 187/187 [00:16<00:00, 11.20it/s, v_num=gby9, train_loss=0.786, train_accuracy=0.500]"
     ]
    },
    {
     "name": "stderr",
     "output_type": "stream",
     "text": [
      "2023-10-27 07:20:27,063 DEBUG MainThread fsspec.local open file: C:/Users/Georgy/Desktop/PhD/Skoltech/4term_T1/Neuroimaging_ML/PROJECT/STGATE/experiments/lightning_logs/lui8gby9/checkpoints/epoch=2-step=561.ckpt\n"
     ]
    },
    {
     "name": "stdout",
     "output_type": "stream",
     "text": [
      "\n",
      "[Train] train_loss: 0.568 train_accuracy: 0.696 \n",
      "\n"
     ]
    },
    {
     "name": "stderr",
     "output_type": "stream",
     "text": [
      "2023-10-27 07:20:27,091 DEBUG MainThread urllib3.connectionpool Starting new HTTPS connection (1): api.wandb.ai:443\n",
      "2023-10-27 07:20:28,325 DEBUG MainThread urllib3.connectionpool https://api.wandb.ai:443 \"POST /graphql HTTP/1.1\" 200 None\n"
     ]
    },
    {
     "name": "stdout",
     "output_type": "stream",
     "text": [
      "Epoch 3: 100%|███████████████████| 187/187 [00:19<00:00,  9.43it/s, v_num=gby9, train_loss=0.433, train_accuracy=1.000]\n",
      "[Train] train_loss: 0.554 train_accuracy: 0.697 \n",
      "\n"
     ]
    },
    {
     "name": "stderr",
     "output_type": "stream",
     "text": [
      "2023-10-27 07:20:48,224 DEBUG MainThread fsspec.local open file: C:/Users/Georgy/Desktop/PhD/Skoltech/4term_T1/Neuroimaging_ML/PROJECT/STGATE/experiments/lightning_logs/lui8gby9/checkpoints/epoch=3-step=748.ckpt\n",
      "2023-10-27 07:20:48,281 DEBUG MainThread urllib3.connectionpool Starting new HTTPS connection (1): api.wandb.ai:443\n",
      "2023-10-27 07:20:50,120 DEBUG MainThread urllib3.connectionpool https://api.wandb.ai:443 \"POST /graphql HTTP/1.1\" 200 None\n"
     ]
    },
    {
     "name": "stdout",
     "output_type": "stream",
     "text": [
      "Epoch 4: 100%|███████████████████| 187/187 [00:17<00:00, 10.79it/s, v_num=gby9, train_loss=0.476, train_accuracy=0.833]"
     ]
    },
    {
     "name": "stderr",
     "output_type": "stream",
     "text": [
      "2023-10-27 07:21:07,516 DEBUG MainThread fsspec.local open file: C:/Users/Georgy/Desktop/PhD/Skoltech/4term_T1/Neuroimaging_ML/PROJECT/STGATE/experiments/lightning_logs/lui8gby9/checkpoints/epoch=4-step=935.ckpt\n",
      "2023-10-27 07:21:07,559 DEBUG MainThread urllib3.connectionpool Starting new HTTPS connection (1): api.wandb.ai:443\n"
     ]
    },
    {
     "name": "stdout",
     "output_type": "stream",
     "text": [
      "\n",
      "[Train] train_loss: 0.549 train_accuracy: 0.703 \n",
      "\n"
     ]
    },
    {
     "name": "stderr",
     "output_type": "stream",
     "text": [
      "2023-10-27 07:21:09,212 DEBUG MainThread urllib3.connectionpool https://api.wandb.ai:443 \"POST /graphql HTTP/1.1\" 200 None\n"
     ]
    },
    {
     "name": "stdout",
     "output_type": "stream",
     "text": [
      "Epoch 5: 100%|███████████████████| 187/187 [00:19<00:00,  9.36it/s, v_num=gby9, train_loss=0.403, train_accuracy=0.667]"
     ]
    },
    {
     "name": "stderr",
     "output_type": "stream",
     "text": [
      "2023-10-27 07:21:29,243 DEBUG MainThread fsspec.local open file: C:/Users/Georgy/Desktop/PhD/Skoltech/4term_T1/Neuroimaging_ML/PROJECT/STGATE/experiments/lightning_logs/lui8gby9/checkpoints/epoch=5-step=1122.ckpt\n",
      "2023-10-27 07:21:29,293 DEBUG MainThread urllib3.connectionpool Starting new HTTPS connection (1): api.wandb.ai:443\n"
     ]
    },
    {
     "name": "stdout",
     "output_type": "stream",
     "text": [
      "\n",
      "[Train] train_loss: 0.545 train_accuracy: 0.713 \n",
      "\n"
     ]
    },
    {
     "name": "stderr",
     "output_type": "stream",
     "text": [
      "2023-10-27 07:21:31,115 DEBUG MainThread urllib3.connectionpool https://api.wandb.ai:443 \"POST /graphql HTTP/1.1\" 200 None\n"
     ]
    },
    {
     "name": "stdout",
     "output_type": "stream",
     "text": [
      "Epoch 6: 100%|███████████████████| 187/187 [00:25<00:00,  7.40it/s, v_num=gby9, train_loss=0.776, train_accuracy=0.500]"
     ]
    },
    {
     "name": "stderr",
     "output_type": "stream",
     "text": [
      "2023-10-27 07:21:56,449 DEBUG MainThread fsspec.local open file: C:/Users/Georgy/Desktop/PhD/Skoltech/4term_T1/Neuroimaging_ML/PROJECT/STGATE/experiments/lightning_logs/lui8gby9/checkpoints/epoch=6-step=1309.ckpt\n"
     ]
    },
    {
     "name": "stdout",
     "output_type": "stream",
     "text": [
      "\n",
      "[Train] train_loss: 0.537 train_accuracy: 0.728 \n",
      "\n"
     ]
    },
    {
     "name": "stderr",
     "output_type": "stream",
     "text": [
      "2023-10-27 07:21:56,511 DEBUG MainThread urllib3.connectionpool Starting new HTTPS connection (1): api.wandb.ai:443\n",
      "2023-10-27 07:21:58,582 DEBUG MainThread urllib3.connectionpool https://api.wandb.ai:443 \"POST /graphql HTTP/1.1\" 200 None\n"
     ]
    },
    {
     "name": "stdout",
     "output_type": "stream",
     "text": [
      "Epoch 7: 100%|███████████████████| 187/187 [00:22<00:00,  8.19it/s, v_num=gby9, train_loss=0.636, train_accuracy=0.500]\n",
      "[Train] train_loss: 0.538 train_accuracy: 0.711 \n"
     ]
    },
    {
     "name": "stderr",
     "output_type": "stream",
     "text": [
      "2023-10-27 07:22:21,496 DEBUG MainThread fsspec.local open file: C:/Users/Georgy/Desktop/PhD/Skoltech/4term_T1/Neuroimaging_ML/PROJECT/STGATE/experiments/lightning_logs/lui8gby9/checkpoints/epoch=7-step=1496.ckpt\n",
      "2023-10-27 07:22:21,537 DEBUG MainThread urllib3.connectionpool Starting new HTTPS connection (1): api.wandb.ai:443\n"
     ]
    },
    {
     "name": "stdout",
     "output_type": "stream",
     "text": [
      "\n"
     ]
    },
    {
     "name": "stderr",
     "output_type": "stream",
     "text": [
      "2023-10-27 07:22:23,789 DEBUG MainThread urllib3.connectionpool https://api.wandb.ai:443 \"POST /graphql HTTP/1.1\" 200 None\n"
     ]
    },
    {
     "name": "stdout",
     "output_type": "stream",
     "text": [
      "Epoch 8: 100%|███████████████████| 187/187 [00:23<00:00,  8.09it/s, v_num=gby9, train_loss=0.434, train_accuracy=0.833]"
     ]
    },
    {
     "name": "stderr",
     "output_type": "stream",
     "text": [
      "2023-10-27 07:22:46,993 DEBUG MainThread fsspec.local open file: C:/Users/Georgy/Desktop/PhD/Skoltech/4term_T1/Neuroimaging_ML/PROJECT/STGATE/experiments/lightning_logs/lui8gby9/checkpoints/epoch=8-step=1683.ckpt\n",
      "2023-10-27 07:22:47,033 DEBUG MainThread urllib3.connectionpool Starting new HTTPS connection (1): api.wandb.ai:443\n"
     ]
    },
    {
     "name": "stdout",
     "output_type": "stream",
     "text": [
      "\n",
      "[Train] train_loss: 0.529 train_accuracy: 0.719 \n",
      "\n"
     ]
    },
    {
     "name": "stderr",
     "output_type": "stream",
     "text": [
      "2023-10-27 07:22:48,836 DEBUG MainThread urllib3.connectionpool https://api.wandb.ai:443 \"POST /graphql HTTP/1.1\" 200 None\n"
     ]
    },
    {
     "name": "stdout",
     "output_type": "stream",
     "text": [
      "Epoch 9: 100%|███████████████████| 187/187 [00:22<00:00,  8.40it/s, v_num=gby9, train_loss=0.309, train_accuracy=0.833]"
     ]
    },
    {
     "name": "stderr",
     "output_type": "stream",
     "text": [
      "2023-10-27 07:23:11,168 DEBUG MainThread fsspec.local open file: C:/Users/Georgy/Desktop/PhD/Skoltech/4term_T1/Neuroimaging_ML/PROJECT/STGATE/experiments/lightning_logs/lui8gby9/checkpoints/epoch=9-step=1870.ckpt\n",
      "2023-10-27 07:23:11,203 DEBUG MainThread urllib3.connectionpool Starting new HTTPS connection (1): api.wandb.ai:443\n"
     ]
    },
    {
     "name": "stdout",
     "output_type": "stream",
     "text": [
      "\n",
      "[Train] train_loss: 0.526 train_accuracy: 0.713 \n",
      "\n"
     ]
    },
    {
     "name": "stderr",
     "output_type": "stream",
     "text": [
      "2023-10-27 07:23:13,276 DEBUG MainThread urllib3.connectionpool https://api.wandb.ai:443 \"POST /graphql HTTP/1.1\" 200 None\n"
     ]
    },
    {
     "name": "stdout",
     "output_type": "stream",
     "text": [
      "Epoch 10: 100%|██████████████████| 187/187 [00:21<00:00,  8.67it/s, v_num=gby9, train_loss=0.349, train_accuracy=0.833]\n",
      "[Train] train_loss: 0.516 train_accuracy: 0.721 \n",
      "\n"
     ]
    },
    {
     "name": "stderr",
     "output_type": "stream",
     "text": [
      "2023-10-27 07:23:34,901 DEBUG MainThread fsspec.local open file: C:/Users/Georgy/Desktop/PhD/Skoltech/4term_T1/Neuroimaging_ML/PROJECT/STGATE/experiments/lightning_logs/lui8gby9/checkpoints/epoch=10-step=2057.ckpt\n",
      "2023-10-27 07:23:34,937 DEBUG MainThread urllib3.connectionpool Starting new HTTPS connection (1): api.wandb.ai:443\n",
      "2023-10-27 07:23:36,669 DEBUG MainThread urllib3.connectionpool https://api.wandb.ai:443 \"POST /graphql HTTP/1.1\" 200 None\n"
     ]
    },
    {
     "name": "stdout",
     "output_type": "stream",
     "text": [
      "Epoch 11: 100%|██████████████████| 187/187 [00:25<00:00,  7.34it/s, v_num=gby9, train_loss=0.343, train_accuracy=1.000]"
     ]
    },
    {
     "name": "stderr",
     "output_type": "stream",
     "text": [
      "2023-10-27 07:24:02,243 DEBUG MainThread fsspec.local open file: C:/Users/Georgy/Desktop/PhD/Skoltech/4term_T1/Neuroimaging_ML/PROJECT/STGATE/experiments/lightning_logs/lui8gby9/checkpoints/epoch=11-step=2244.ckpt\n"
     ]
    },
    {
     "name": "stdout",
     "output_type": "stream",
     "text": [
      "\n",
      "[Train] train_loss: 0.518 train_accuracy: 0.734 \n",
      "\n"
     ]
    },
    {
     "name": "stderr",
     "output_type": "stream",
     "text": [
      "2023-10-27 07:24:02,289 DEBUG MainThread urllib3.connectionpool Starting new HTTPS connection (1): api.wandb.ai:443\n",
      "2023-10-27 07:24:04,105 DEBUG MainThread urllib3.connectionpool https://api.wandb.ai:443 \"POST /graphql HTTP/1.1\" 200 None\n"
     ]
    },
    {
     "name": "stdout",
     "output_type": "stream",
     "text": [
      "Epoch 12: 100%|██████████████████| 187/187 [00:21<00:00,  8.61it/s, v_num=gby9, train_loss=0.793, train_accuracy=0.667]"
     ]
    },
    {
     "name": "stderr",
     "output_type": "stream",
     "text": [
      "2023-10-27 07:24:25,894 DEBUG MainThread fsspec.local open file: C:/Users/Georgy/Desktop/PhD/Skoltech/4term_T1/Neuroimaging_ML/PROJECT/STGATE/experiments/lightning_logs/lui8gby9/checkpoints/epoch=12-step=2431.ckpt\n",
      "2023-10-27 07:24:25,943 DEBUG MainThread urllib3.connectionpool Starting new HTTPS connection (1): api.wandb.ai:443\n"
     ]
    },
    {
     "name": "stdout",
     "output_type": "stream",
     "text": [
      "\n",
      "[Train] train_loss: 0.522 train_accuracy: 0.717 \n",
      "\n"
     ]
    },
    {
     "name": "stderr",
     "output_type": "stream",
     "text": [
      "2023-10-27 07:24:27,809 DEBUG MainThread urllib3.connectionpool https://api.wandb.ai:443 \"POST /graphql HTTP/1.1\" 200 None\n"
     ]
    },
    {
     "name": "stdout",
     "output_type": "stream",
     "text": [
      "Epoch 13: 100%|██████████████████| 187/187 [00:19<00:00,  9.82it/s, v_num=gby9, train_loss=0.529, train_accuracy=0.667]"
     ]
    },
    {
     "name": "stderr",
     "output_type": "stream",
     "text": [
      "2023-10-27 07:24:46,922 DEBUG MainThread fsspec.local open file: C:/Users/Georgy/Desktop/PhD/Skoltech/4term_T1/Neuroimaging_ML/PROJECT/STGATE/experiments/lightning_logs/lui8gby9/checkpoints/epoch=13-step=2618.ckpt\n"
     ]
    },
    {
     "name": "stdout",
     "output_type": "stream",
     "text": [
      "\n",
      "[Train] train_loss: 0.507 train_accuracy: 0.733 \n",
      "\n"
     ]
    },
    {
     "name": "stderr",
     "output_type": "stream",
     "text": [
      "2023-10-27 07:24:46,976 DEBUG MainThread urllib3.connectionpool Starting new HTTPS connection (1): api.wandb.ai:443\n",
      "2023-10-27 07:24:48,920 DEBUG MainThread urllib3.connectionpool https://api.wandb.ai:443 \"POST /graphql HTTP/1.1\" 200 None\n"
     ]
    },
    {
     "name": "stdout",
     "output_type": "stream",
     "text": [
      "Epoch 14: 100%|██████████████████| 187/187 [00:20<00:00,  9.00it/s, v_num=gby9, train_loss=0.448, train_accuracy=0.667]"
     ]
    },
    {
     "name": "stderr",
     "output_type": "stream",
     "text": [
      "2023-10-27 07:25:09,759 DEBUG MainThread fsspec.local open file: C:/Users/Georgy/Desktop/PhD/Skoltech/4term_T1/Neuroimaging_ML/PROJECT/STGATE/experiments/lightning_logs/lui8gby9/checkpoints/epoch=14-step=2805.ckpt\n"
     ]
    },
    {
     "name": "stdout",
     "output_type": "stream",
     "text": [
      "\n",
      "[Train] train_loss: 0.503 train_accuracy: 0.732 \n",
      "\n"
     ]
    },
    {
     "name": "stderr",
     "output_type": "stream",
     "text": [
      "2023-10-27 07:25:09,830 DEBUG MainThread urllib3.connectionpool Starting new HTTPS connection (1): api.wandb.ai:443\n",
      "2023-10-27 07:25:11,844 DEBUG MainThread urllib3.connectionpool https://api.wandb.ai:443 \"POST /graphql HTTP/1.1\" 200 None\n"
     ]
    },
    {
     "name": "stdout",
     "output_type": "stream",
     "text": [
      "Epoch 15: 100%|██████████████████| 187/187 [00:22<00:00,  8.49it/s, v_num=gby9, train_loss=0.306, train_accuracy=1.000]"
     ]
    },
    {
     "name": "stderr",
     "output_type": "stream",
     "text": [
      "2023-10-27 07:25:33,933 DEBUG MainThread fsspec.local open file: C:/Users/Georgy/Desktop/PhD/Skoltech/4term_T1/Neuroimaging_ML/PROJECT/STGATE/experiments/lightning_logs/lui8gby9/checkpoints/epoch=15-step=2992.ckpt\n",
      "2023-10-27 07:25:33,981 DEBUG MainThread urllib3.connectionpool Starting new HTTPS connection (1): api.wandb.ai:443\n"
     ]
    },
    {
     "name": "stdout",
     "output_type": "stream",
     "text": [
      "\n",
      "[Train] train_loss: 0.495 train_accuracy: 0.737 \n",
      "\n"
     ]
    },
    {
     "name": "stderr",
     "output_type": "stream",
     "text": [
      "2023-10-27 07:25:35,638 DEBUG MainThread urllib3.connectionpool https://api.wandb.ai:443 \"POST /graphql HTTP/1.1\" 200 None\n"
     ]
    },
    {
     "name": "stdout",
     "output_type": "stream",
     "text": [
      "Epoch 16: 100%|██████████████████| 187/187 [00:21<00:00,  8.72it/s, v_num=gby9, train_loss=0.291, train_accuracy=0.833]"
     ]
    },
    {
     "name": "stderr",
     "output_type": "stream",
     "text": [
      "2023-10-27 07:25:57,171 DEBUG MainThread fsspec.local open file: C:/Users/Georgy/Desktop/PhD/Skoltech/4term_T1/Neuroimaging_ML/PROJECT/STGATE/experiments/lightning_logs/lui8gby9/checkpoints/epoch=16-step=3179.ckpt\n"
     ]
    },
    {
     "name": "stdout",
     "output_type": "stream",
     "text": [
      "\n",
      "[Train] train_loss: 0.500 train_accuracy: 0.734 \n",
      "\n"
     ]
    },
    {
     "name": "stderr",
     "output_type": "stream",
     "text": [
      "2023-10-27 07:25:57,222 DEBUG MainThread urllib3.connectionpool Starting new HTTPS connection (1): api.wandb.ai:443\n",
      "2023-10-27 07:25:59,230 DEBUG MainThread urllib3.connectionpool https://api.wandb.ai:443 \"POST /graphql HTTP/1.1\" 200 None\n"
     ]
    },
    {
     "name": "stdout",
     "output_type": "stream",
     "text": [
      "Epoch 17: 100%|██████████████████| 187/187 [00:22<00:00,  8.29it/s, v_num=gby9, train_loss=0.607, train_accuracy=0.667]"
     ]
    },
    {
     "name": "stderr",
     "output_type": "stream",
     "text": [
      "2023-10-27 07:26:21,872 DEBUG MainThread fsspec.local open file: C:/Users/Georgy/Desktop/PhD/Skoltech/4term_T1/Neuroimaging_ML/PROJECT/STGATE/experiments/lightning_logs/lui8gby9/checkpoints/epoch=17-step=3366.ckpt\n"
     ]
    },
    {
     "name": "stdout",
     "output_type": "stream",
     "text": [
      "\n",
      "[Train] train_loss: 0.492 train_accuracy: 0.744 \n",
      "\n"
     ]
    },
    {
     "name": "stderr",
     "output_type": "stream",
     "text": [
      "2023-10-27 07:26:21,920 DEBUG MainThread urllib3.connectionpool Starting new HTTPS connection (1): api.wandb.ai:443\n",
      "2023-10-27 07:26:23,655 DEBUG MainThread urllib3.connectionpool https://api.wandb.ai:443 \"POST /graphql HTTP/1.1\" 200 None\n"
     ]
    },
    {
     "name": "stdout",
     "output_type": "stream",
     "text": [
      "Epoch 18: 100%|██████████████████| 187/187 [00:22<00:00,  8.41it/s, v_num=gby9, train_loss=0.474, train_accuracy=0.667]"
     ]
    },
    {
     "name": "stderr",
     "output_type": "stream",
     "text": [
      "2023-10-27 07:26:45,961 DEBUG MainThread fsspec.local open file: C:/Users/Georgy/Desktop/PhD/Skoltech/4term_T1/Neuroimaging_ML/PROJECT/STGATE/experiments/lightning_logs/lui8gby9/checkpoints/epoch=18-step=3553.ckpt\n",
      "2023-10-27 07:26:46,004 DEBUG MainThread urllib3.connectionpool Starting new HTTPS connection (1): api.wandb.ai:443\n"
     ]
    },
    {
     "name": "stdout",
     "output_type": "stream",
     "text": [
      "\n",
      "[Train] train_loss: 0.491 train_accuracy: 0.737 \n",
      "\n"
     ]
    },
    {
     "name": "stderr",
     "output_type": "stream",
     "text": [
      "2023-10-27 07:26:47,654 DEBUG MainThread urllib3.connectionpool https://api.wandb.ai:443 \"POST /graphql HTTP/1.1\" 200 None\n"
     ]
    },
    {
     "name": "stdout",
     "output_type": "stream",
     "text": [
      "Epoch 19: 100%|██████████████████| 187/187 [00:19<00:00,  9.69it/s, v_num=gby9, train_loss=0.776, train_accuracy=0.500]\n",
      "[Train] train_loss: 0.493 train_accuracy: 0.743 \n",
      "\n"
     ]
    },
    {
     "name": "stderr",
     "output_type": "stream",
     "text": [
      "2023-10-27 07:27:07,025 DEBUG MainThread fsspec.local open file: C:/Users/Georgy/Desktop/PhD/Skoltech/4term_T1/Neuroimaging_ML/PROJECT/STGATE/experiments/lightning_logs/lui8gby9/checkpoints/epoch=19-step=3740.ckpt\n",
      "2023-10-27 07:27:07,066 DEBUG MainThread urllib3.connectionpool Starting new HTTPS connection (1): api.wandb.ai:443\n",
      "2023-10-27 07:27:09,054 DEBUG MainThread urllib3.connectionpool https://api.wandb.ai:443 \"POST /graphql HTTP/1.1\" 200 None\n"
     ]
    },
    {
     "name": "stdout",
     "output_type": "stream",
     "text": [
      "Epoch 20: 100%|██████████████████| 187/187 [00:21<00:00,  8.83it/s, v_num=gby9, train_loss=0.442, train_accuracy=0.833]"
     ]
    },
    {
     "name": "stderr",
     "output_type": "stream",
     "text": [
      "2023-10-27 07:27:30,317 DEBUG MainThread fsspec.local open file: C:/Users/Georgy/Desktop/PhD/Skoltech/4term_T1/Neuroimaging_ML/PROJECT/STGATE/experiments/lightning_logs/lui8gby9/checkpoints/epoch=20-step=3927.ckpt\n"
     ]
    },
    {
     "name": "stdout",
     "output_type": "stream",
     "text": [
      "\n",
      "[Train] train_loss: 0.481 train_accuracy: 0.755 \n",
      "\n"
     ]
    },
    {
     "name": "stderr",
     "output_type": "stream",
     "text": [
      "2023-10-27 07:27:30,384 DEBUG MainThread urllib3.connectionpool Starting new HTTPS connection (1): api.wandb.ai:443\n",
      "2023-10-27 07:27:32,456 DEBUG MainThread urllib3.connectionpool https://api.wandb.ai:443 \"POST /graphql HTTP/1.1\" 200 None\n"
     ]
    },
    {
     "name": "stdout",
     "output_type": "stream",
     "text": [
      "Epoch 21: 100%|██████████████████| 187/187 [00:22<00:00,  8.46it/s, v_num=gby9, train_loss=0.435, train_accuracy=0.667]\n",
      "[Train] train_loss: 0.477 train_accuracy: 0.757 \n"
     ]
    },
    {
     "name": "stderr",
     "output_type": "stream",
     "text": [
      "2023-10-27 07:27:54,616 DEBUG MainThread fsspec.local open file: C:/Users/Georgy/Desktop/PhD/Skoltech/4term_T1/Neuroimaging_ML/PROJECT/STGATE/experiments/lightning_logs/lui8gby9/checkpoints/epoch=21-step=4114.ckpt\n"
     ]
    },
    {
     "name": "stdout",
     "output_type": "stream",
     "text": [
      "\n"
     ]
    },
    {
     "name": "stderr",
     "output_type": "stream",
     "text": [
      "2023-10-27 07:27:54,657 DEBUG MainThread urllib3.connectionpool Starting new HTTPS connection (1): api.wandb.ai:443\n",
      "2023-10-27 07:27:56,245 DEBUG MainThread urllib3.connectionpool https://api.wandb.ai:443 \"POST /graphql HTTP/1.1\" 200 None\n"
     ]
    },
    {
     "name": "stdout",
     "output_type": "stream",
     "text": [
      "Epoch 22: 100%|██████████████████| 187/187 [00:19<00:00,  9.47it/s, v_num=gby9, train_loss=0.808, train_accuracy=0.500]"
     ]
    },
    {
     "name": "stderr",
     "output_type": "stream",
     "text": [
      "2023-10-27 07:28:16,069 DEBUG MainThread fsspec.local open file: C:/Users/Georgy/Desktop/PhD/Skoltech/4term_T1/Neuroimaging_ML/PROJECT/STGATE/experiments/lightning_logs/lui8gby9/checkpoints/epoch=22-step=4301.ckpt\n"
     ]
    },
    {
     "name": "stdout",
     "output_type": "stream",
     "text": [
      "\n",
      "[Train] train_loss: 0.472 train_accuracy: 0.758 \n",
      "\n"
     ]
    },
    {
     "name": "stderr",
     "output_type": "stream",
     "text": [
      "2023-10-27 07:28:16,117 DEBUG MainThread urllib3.connectionpool Starting new HTTPS connection (1): api.wandb.ai:443\n",
      "2023-10-27 07:28:18,080 DEBUG MainThread urllib3.connectionpool https://api.wandb.ai:443 \"POST /graphql HTTP/1.1\" 200 None\n"
     ]
    },
    {
     "name": "stdout",
     "output_type": "stream",
     "text": [
      "Epoch 23: 100%|██████████████████| 187/187 [00:23<00:00,  7.95it/s, v_num=gby9, train_loss=0.600, train_accuracy=0.667]"
     ]
    },
    {
     "name": "stderr",
     "output_type": "stream",
     "text": [
      "2023-10-27 07:28:41,661 DEBUG MainThread fsspec.local open file: C:/Users/Georgy/Desktop/PhD/Skoltech/4term_T1/Neuroimaging_ML/PROJECT/STGATE/experiments/lightning_logs/lui8gby9/checkpoints/epoch=23-step=4488.ckpt\n"
     ]
    },
    {
     "name": "stdout",
     "output_type": "stream",
     "text": [
      "\n",
      "[Train] train_loss: 0.476 train_accuracy: 0.745 \n",
      "\n"
     ]
    },
    {
     "name": "stderr",
     "output_type": "stream",
     "text": [
      "2023-10-27 07:28:41,714 DEBUG MainThread urllib3.connectionpool Starting new HTTPS connection (1): api.wandb.ai:443\n",
      "2023-10-27 07:28:43,462 DEBUG MainThread urllib3.connectionpool https://api.wandb.ai:443 \"POST /graphql HTTP/1.1\" 200 None\n"
     ]
    },
    {
     "name": "stdout",
     "output_type": "stream",
     "text": [
      "Epoch 24: 100%|██████████████████| 187/187 [00:28<00:00,  6.58it/s, v_num=gby9, train_loss=0.231, train_accuracy=0.833]\n",
      "[Train] train_loss: 0.475 train_accuracy: 0.751 \n",
      "\n"
     ]
    },
    {
     "name": "stderr",
     "output_type": "stream",
     "text": [
      "2023-10-27 07:29:11,990 DEBUG MainThread fsspec.local open file: C:/Users/Georgy/Desktop/PhD/Skoltech/4term_T1/Neuroimaging_ML/PROJECT/STGATE/experiments/lightning_logs/lui8gby9/checkpoints/epoch=24-step=4675.ckpt\n",
      "2023-10-27 07:29:12,050 DEBUG MainThread urllib3.connectionpool Starting new HTTPS connection (1): api.wandb.ai:443\n",
      "2023-10-27 07:29:13,676 DEBUG MainThread urllib3.connectionpool https://api.wandb.ai:443 \"POST /graphql HTTP/1.1\" 200 None\n"
     ]
    },
    {
     "name": "stdout",
     "output_type": "stream",
     "text": [
      "Epoch 25: 100%|██████████████████| 187/187 [00:23<00:00,  8.02it/s, v_num=gby9, train_loss=0.565, train_accuracy=0.667]\n",
      "[Train] train_loss: 0.479 train_accuracy: 0.741 \n",
      "\n"
     ]
    },
    {
     "name": "stderr",
     "output_type": "stream",
     "text": [
      "2023-10-27 07:29:37,101 DEBUG MainThread fsspec.local open file: C:/Users/Georgy/Desktop/PhD/Skoltech/4term_T1/Neuroimaging_ML/PROJECT/STGATE/experiments/lightning_logs/lui8gby9/checkpoints/epoch=25-step=4862.ckpt\n",
      "2023-10-27 07:29:37,168 DEBUG MainThread urllib3.connectionpool Starting new HTTPS connection (1): api.wandb.ai:443\n",
      "2023-10-27 07:29:39,091 DEBUG MainThread urllib3.connectionpool https://api.wandb.ai:443 \"POST /graphql HTTP/1.1\" 200 None\n"
     ]
    },
    {
     "name": "stdout",
     "output_type": "stream",
     "text": [
      "Epoch 26: 100%|██████████████████| 187/187 [00:23<00:00,  7.82it/s, v_num=gby9, train_loss=0.496, train_accuracy=0.833]"
     ]
    },
    {
     "name": "stderr",
     "output_type": "stream",
     "text": [
      "2023-10-27 07:30:03,068 DEBUG MainThread fsspec.local open file: C:/Users/Georgy/Desktop/PhD/Skoltech/4term_T1/Neuroimaging_ML/PROJECT/STGATE/experiments/lightning_logs/lui8gby9/checkpoints/epoch=26-step=5049.ckpt\n"
     ]
    },
    {
     "name": "stdout",
     "output_type": "stream",
     "text": [
      "\n",
      "[Train] train_loss: 0.464 train_accuracy: 0.764 \n",
      "\n"
     ]
    },
    {
     "name": "stderr",
     "output_type": "stream",
     "text": [
      "2023-10-27 07:30:03,126 DEBUG MainThread urllib3.connectionpool Starting new HTTPS connection (1): api.wandb.ai:443\n",
      "2023-10-27 07:30:04,931 DEBUG MainThread urllib3.connectionpool https://api.wandb.ai:443 \"POST /graphql HTTP/1.1\" 200 None\n"
     ]
    },
    {
     "name": "stdout",
     "output_type": "stream",
     "text": [
      "Epoch 27: 100%|██████████████████| 187/187 [00:21<00:00,  8.76it/s, v_num=gby9, train_loss=0.553, train_accuracy=0.667]"
     ]
    },
    {
     "name": "stderr",
     "output_type": "stream",
     "text": [
      "2023-10-27 07:30:26,319 DEBUG MainThread fsspec.local open file: C:/Users/Georgy/Desktop/PhD/Skoltech/4term_T1/Neuroimaging_ML/PROJECT/STGATE/experiments/lightning_logs/lui8gby9/checkpoints/epoch=27-step=5236.ckpt\n"
     ]
    },
    {
     "name": "stdout",
     "output_type": "stream",
     "text": [
      "\n",
      "[Train] train_loss: 0.467 train_accuracy: 0.760 \n",
      "\n"
     ]
    },
    {
     "name": "stderr",
     "output_type": "stream",
     "text": [
      "2023-10-27 07:30:26,352 DEBUG MainThread urllib3.connectionpool Starting new HTTPS connection (1): api.wandb.ai:443\n",
      "2023-10-27 07:30:27,569 DEBUG MainThread urllib3.connectionpool https://api.wandb.ai:443 \"POST /graphql HTTP/1.1\" 200 None\n"
     ]
    },
    {
     "name": "stdout",
     "output_type": "stream",
     "text": [
      "Epoch 28: 100%|██████████████████| 187/187 [00:13<00:00, 13.54it/s, v_num=gby9, train_loss=0.520, train_accuracy=0.833]"
     ]
    },
    {
     "name": "stderr",
     "output_type": "stream",
     "text": [
      "2023-10-27 07:30:41,426 DEBUG MainThread fsspec.local open file: C:/Users/Georgy/Desktop/PhD/Skoltech/4term_T1/Neuroimaging_ML/PROJECT/STGATE/experiments/lightning_logs/lui8gby9/checkpoints/epoch=28-step=5423.ckpt\n",
      "2023-10-27 07:30:41,450 DEBUG MainThread urllib3.connectionpool Starting new HTTPS connection (1): api.wandb.ai:443\n"
     ]
    },
    {
     "name": "stdout",
     "output_type": "stream",
     "text": [
      "\n",
      "[Train] train_loss: 0.460 train_accuracy: 0.767 \n",
      "\n"
     ]
    },
    {
     "name": "stderr",
     "output_type": "stream",
     "text": [
      "2023-10-27 07:30:42,437 DEBUG MainThread urllib3.connectionpool https://api.wandb.ai:443 \"POST /graphql HTTP/1.1\" 200 None\n"
     ]
    },
    {
     "name": "stdout",
     "output_type": "stream",
     "text": [
      "Epoch 29: 100%|██████████████████| 187/187 [00:16<00:00, 11.08it/s, v_num=gby9, train_loss=0.409, train_accuracy=0.833]"
     ]
    },
    {
     "name": "stderr",
     "output_type": "stream",
     "text": [
      "2023-10-27 07:30:59,348 DEBUG MainThread fsspec.local open file: C:/Users/Georgy/Desktop/PhD/Skoltech/4term_T1/Neuroimaging_ML/PROJECT/STGATE/experiments/lightning_logs/lui8gby9/checkpoints/epoch=29-step=5610.ckpt\n"
     ]
    },
    {
     "name": "stdout",
     "output_type": "stream",
     "text": [
      "\n",
      "[Train] train_loss: 0.455 train_accuracy: 0.764 \n",
      "\n"
     ]
    },
    {
     "name": "stderr",
     "output_type": "stream",
     "text": [
      "2023-10-27 07:30:59,367 DEBUG MainThread urllib3.connectionpool Starting new HTTPS connection (1): api.wandb.ai:443\n",
      "2023-10-27 07:31:00,289 DEBUG MainThread urllib3.connectionpool https://api.wandb.ai:443 \"POST /graphql HTTP/1.1\" 200 None\n"
     ]
    },
    {
     "name": "stdout",
     "output_type": "stream",
     "text": [
      "Epoch 30: 100%|██████████████████| 187/187 [00:13<00:00, 14.04it/s, v_num=gby9, train_loss=0.200, train_accuracy=1.000]\n",
      "[Train] train_loss: 0.450 train_accuracy: 0.775 \n",
      "\n"
     ]
    },
    {
     "name": "stderr",
     "output_type": "stream",
     "text": [
      "2023-10-27 07:31:13,653 DEBUG MainThread fsspec.local open file: C:/Users/Georgy/Desktop/PhD/Skoltech/4term_T1/Neuroimaging_ML/PROJECT/STGATE/experiments/lightning_logs/lui8gby9/checkpoints/epoch=30-step=5797.ckpt\n",
      "2023-10-27 07:31:13,690 DEBUG MainThread urllib3.connectionpool Starting new HTTPS connection (1): api.wandb.ai:443\n",
      "2023-10-27 07:31:14,712 DEBUG MainThread urllib3.connectionpool https://api.wandb.ai:443 \"POST /graphql HTTP/1.1\" 200 None\n"
     ]
    },
    {
     "name": "stdout",
     "output_type": "stream",
     "text": [
      "Epoch 31: 100%|██████████████████| 187/187 [00:16<00:00, 11.35it/s, v_num=gby9, train_loss=0.664, train_accuracy=0.667]"
     ]
    },
    {
     "name": "stderr",
     "output_type": "stream",
     "text": [
      "2023-10-27 07:31:31,265 DEBUG MainThread fsspec.local open file: C:/Users/Georgy/Desktop/PhD/Skoltech/4term_T1/Neuroimaging_ML/PROJECT/STGATE/experiments/lightning_logs/lui8gby9/checkpoints/epoch=31-step=5984.ckpt\n"
     ]
    },
    {
     "name": "stdout",
     "output_type": "stream",
     "text": [
      "\n",
      "[Train] train_loss: 0.447 train_accuracy: 0.774 \n",
      "\n"
     ]
    },
    {
     "name": "stderr",
     "output_type": "stream",
     "text": [
      "2023-10-27 07:31:31,327 DEBUG MainThread urllib3.connectionpool Starting new HTTPS connection (1): api.wandb.ai:443\n",
      "2023-10-27 07:31:32,785 DEBUG MainThread urllib3.connectionpool https://api.wandb.ai:443 \"POST /graphql HTTP/1.1\" 200 None\n"
     ]
    },
    {
     "name": "stdout",
     "output_type": "stream",
     "text": [
      "Epoch 32: 100%|██████████████████| 187/187 [00:14<00:00, 13.30it/s, v_num=gby9, train_loss=0.593, train_accuracy=0.500]"
     ]
    },
    {
     "name": "stderr",
     "output_type": "stream",
     "text": [
      "2023-10-27 07:31:46,905 DEBUG MainThread fsspec.local open file: C:/Users/Georgy/Desktop/PhD/Skoltech/4term_T1/Neuroimaging_ML/PROJECT/STGATE/experiments/lightning_logs/lui8gby9/checkpoints/epoch=32-step=6171.ckpt\n",
      "2023-10-27 07:31:46,935 DEBUG MainThread urllib3.connectionpool Starting new HTTPS connection (1): api.wandb.ai:443\n"
     ]
    },
    {
     "name": "stdout",
     "output_type": "stream",
     "text": [
      "\n",
      "[Train] train_loss: 0.444 train_accuracy: 0.775 \n",
      "\n"
     ]
    },
    {
     "name": "stderr",
     "output_type": "stream",
     "text": [
      "2023-10-27 07:31:47,979 DEBUG MainThread urllib3.connectionpool https://api.wandb.ai:443 \"POST /graphql HTTP/1.1\" 200 None\n"
     ]
    },
    {
     "name": "stdout",
     "output_type": "stream",
     "text": [
      "Epoch 33: 100%|██████████████████| 187/187 [00:11<00:00, 16.86it/s, v_num=gby9, train_loss=0.792, train_accuracy=0.500]"
     ]
    },
    {
     "name": "stderr",
     "output_type": "stream",
     "text": [
      "2023-10-27 07:31:59,109 DEBUG MainThread fsspec.local open file: C:/Users/Georgy/Desktop/PhD/Skoltech/4term_T1/Neuroimaging_ML/PROJECT/STGATE/experiments/lightning_logs/lui8gby9/checkpoints/epoch=33-step=6358.ckpt\n"
     ]
    },
    {
     "name": "stdout",
     "output_type": "stream",
     "text": [
      "\n",
      "[Train] train_loss: 0.450 train_accuracy: 0.772 \n",
      "\n"
     ]
    },
    {
     "name": "stderr",
     "output_type": "stream",
     "text": [
      "2023-10-27 07:31:59,130 DEBUG MainThread urllib3.connectionpool Starting new HTTPS connection (1): api.wandb.ai:443\n",
      "2023-10-27 07:31:59,967 DEBUG MainThread urllib3.connectionpool https://api.wandb.ai:443 \"POST /graphql HTTP/1.1\" 200 None\n"
     ]
    },
    {
     "name": "stdout",
     "output_type": "stream",
     "text": [
      "Epoch 34: 100%|██████████████████| 187/187 [00:14<00:00, 12.98it/s, v_num=gby9, train_loss=0.319, train_accuracy=0.833]\n",
      "[Train] train_loss: 0.447 train_accuracy: 0.765 \n",
      "\n"
     ]
    },
    {
     "name": "stderr",
     "output_type": "stream",
     "text": [
      "2023-10-27 07:32:14,408 DEBUG MainThread fsspec.local open file: C:/Users/Georgy/Desktop/PhD/Skoltech/4term_T1/Neuroimaging_ML/PROJECT/STGATE/experiments/lightning_logs/lui8gby9/checkpoints/epoch=34-step=6545.ckpt\n",
      "2023-10-27 07:32:14,452 DEBUG MainThread urllib3.connectionpool Starting new HTTPS connection (1): api.wandb.ai:443\n",
      "2023-10-27 07:32:15,648 DEBUG MainThread urllib3.connectionpool https://api.wandb.ai:443 \"POST /graphql HTTP/1.1\" 200 None\n"
     ]
    },
    {
     "name": "stdout",
     "output_type": "stream",
     "text": [
      "Epoch 35: 100%|██████████████████| 187/187 [00:13<00:00, 13.91it/s, v_num=gby9, train_loss=0.542, train_accuracy=0.833]\n",
      "[Train] train_loss: 0.451 train_accuracy: 0.774 \n",
      "\n"
     ]
    },
    {
     "name": "stderr",
     "output_type": "stream",
     "text": [
      "2023-10-27 07:32:29,133 DEBUG MainThread fsspec.local open file: C:/Users/Georgy/Desktop/PhD/Skoltech/4term_T1/Neuroimaging_ML/PROJECT/STGATE/experiments/lightning_logs/lui8gby9/checkpoints/epoch=35-step=6732.ckpt\n",
      "2023-10-27 07:32:29,151 DEBUG MainThread urllib3.connectionpool Starting new HTTPS connection (1): api.wandb.ai:443\n",
      "2023-10-27 07:32:30,073 DEBUG MainThread urllib3.connectionpool https://api.wandb.ai:443 \"POST /graphql HTTP/1.1\" 200 None\n"
     ]
    },
    {
     "name": "stdout",
     "output_type": "stream",
     "text": [
      "Epoch 36: 100%|██████████████████| 187/187 [00:13<00:00, 14.24it/s, v_num=gby9, train_loss=0.392, train_accuracy=0.833]"
     ]
    },
    {
     "name": "stderr",
     "output_type": "stream",
     "text": [
      "2023-10-27 07:32:43,246 DEBUG MainThread fsspec.local open file: C:/Users/Georgy/Desktop/PhD/Skoltech/4term_T1/Neuroimaging_ML/PROJECT/STGATE/experiments/lightning_logs/lui8gby9/checkpoints/epoch=36-step=6919.ckpt\n"
     ]
    },
    {
     "name": "stdout",
     "output_type": "stream",
     "text": [
      "\n",
      "[Train] train_loss: 0.438 train_accuracy: 0.777 \n",
      "\n"
     ]
    },
    {
     "name": "stderr",
     "output_type": "stream",
     "text": [
      "2023-10-27 07:32:43,272 DEBUG MainThread urllib3.connectionpool Starting new HTTPS connection (1): api.wandb.ai:443\n",
      "2023-10-27 07:32:44,185 DEBUG MainThread urllib3.connectionpool https://api.wandb.ai:443 \"POST /graphql HTTP/1.1\" 200 None\n"
     ]
    },
    {
     "name": "stdout",
     "output_type": "stream",
     "text": [
      "Epoch 37: 100%|██████████████████| 187/187 [00:13<00:00, 13.61it/s, v_num=gby9, train_loss=0.557, train_accuracy=0.500]"
     ]
    },
    {
     "name": "stderr",
     "output_type": "stream",
     "text": [
      "2023-10-27 07:32:57,968 DEBUG MainThread fsspec.local open file: C:/Users/Georgy/Desktop/PhD/Skoltech/4term_T1/Neuroimaging_ML/PROJECT/STGATE/experiments/lightning_logs/lui8gby9/checkpoints/epoch=37-step=7106.ckpt\n"
     ]
    },
    {
     "name": "stdout",
     "output_type": "stream",
     "text": [
      "\n",
      "[Train] train_loss: 0.444 train_accuracy: 0.778 \n",
      "\n"
     ]
    },
    {
     "name": "stderr",
     "output_type": "stream",
     "text": [
      "2023-10-27 07:32:57,991 DEBUG MainThread urllib3.connectionpool Starting new HTTPS connection (1): api.wandb.ai:443\n",
      "2023-10-27 07:32:59,278 DEBUG MainThread urllib3.connectionpool https://api.wandb.ai:443 \"POST /graphql HTTP/1.1\" 200 None\n"
     ]
    },
    {
     "name": "stdout",
     "output_type": "stream",
     "text": [
      "Epoch 38: 100%|██████████████████| 187/187 [00:18<00:00, 10.05it/s, v_num=gby9, train_loss=0.518, train_accuracy=0.667]\n",
      "[Train] train_loss: 0.433 train_accuracy: 0.774 \n",
      "\n"
     ]
    },
    {
     "name": "stderr",
     "output_type": "stream",
     "text": [
      "2023-10-27 07:33:17,932 DEBUG MainThread fsspec.local open file: C:/Users/Georgy/Desktop/PhD/Skoltech/4term_T1/Neuroimaging_ML/PROJECT/STGATE/experiments/lightning_logs/lui8gby9/checkpoints/epoch=38-step=7293.ckpt\n",
      "2023-10-27 07:33:17,983 DEBUG MainThread urllib3.connectionpool Starting new HTTPS connection (1): api.wandb.ai:443\n",
      "2023-10-27 07:33:19,577 DEBUG MainThread urllib3.connectionpool https://api.wandb.ai:443 \"POST /graphql HTTP/1.1\" 200 None\n"
     ]
    },
    {
     "name": "stdout",
     "output_type": "stream",
     "text": [
      "Epoch 39: 100%|██████████████████| 187/187 [00:12<00:00, 14.43it/s, v_num=gby9, train_loss=0.663, train_accuracy=0.667]"
     ]
    },
    {
     "name": "stderr",
     "output_type": "stream",
     "text": [
      "2023-10-27 07:33:32,576 DEBUG MainThread fsspec.local open file: C:/Users/Georgy/Desktop/PhD/Skoltech/4term_T1/Neuroimaging_ML/PROJECT/STGATE/experiments/lightning_logs/lui8gby9/checkpoints/epoch=39-step=7480.ckpt\n"
     ]
    },
    {
     "name": "stdout",
     "output_type": "stream",
     "text": [
      "\n",
      "[Train] train_loss: 0.434 train_accuracy: 0.781 \n",
      "\n"
     ]
    },
    {
     "name": "stderr",
     "output_type": "stream",
     "text": [
      "2023-10-27 07:33:32,603 DEBUG MainThread urllib3.connectionpool Starting new HTTPS connection (1): api.wandb.ai:443\n",
      "2023-10-27 07:33:33,491 DEBUG MainThread urllib3.connectionpool https://api.wandb.ai:443 \"POST /graphql HTTP/1.1\" 200 None\n"
     ]
    },
    {
     "name": "stdout",
     "output_type": "stream",
     "text": [
      "Epoch 40: 100%|██████████████████| 187/187 [00:13<00:00, 13.69it/s, v_num=gby9, train_loss=0.457, train_accuracy=0.833]"
     ]
    },
    {
     "name": "stderr",
     "output_type": "stream",
     "text": [
      "2023-10-27 07:33:47,204 DEBUG MainThread fsspec.local open file: C:/Users/Georgy/Desktop/PhD/Skoltech/4term_T1/Neuroimaging_ML/PROJECT/STGATE/experiments/lightning_logs/lui8gby9/checkpoints/epoch=40-step=7667.ckpt\n",
      "2023-10-27 07:33:47,235 DEBUG MainThread urllib3.connectionpool Starting new HTTPS connection (1): api.wandb.ai:443\n"
     ]
    },
    {
     "name": "stdout",
     "output_type": "stream",
     "text": [
      "\n",
      "[Train] train_loss: 0.430 train_accuracy: 0.781 \n",
      "\n"
     ]
    },
    {
     "name": "stderr",
     "output_type": "stream",
     "text": [
      "2023-10-27 07:33:48,382 DEBUG MainThread urllib3.connectionpool https://api.wandb.ai:443 \"POST /graphql HTTP/1.1\" 200 None\n"
     ]
    },
    {
     "name": "stdout",
     "output_type": "stream",
     "text": [
      "Epoch 41: 100%|██████████████████| 187/187 [00:13<00:00, 13.41it/s, v_num=gby9, train_loss=0.559, train_accuracy=0.667]"
     ]
    },
    {
     "name": "stderr",
     "output_type": "stream",
     "text": [
      "2023-10-27 07:34:02,376 DEBUG MainThread fsspec.local open file: C:/Users/Georgy/Desktop/PhD/Skoltech/4term_T1/Neuroimaging_ML/PROJECT/STGATE/experiments/lightning_logs/lui8gby9/checkpoints/epoch=41-step=7854.ckpt\n",
      "2023-10-27 07:34:02,399 DEBUG MainThread urllib3.connectionpool Starting new HTTPS connection (1): api.wandb.ai:443\n"
     ]
    },
    {
     "name": "stdout",
     "output_type": "stream",
     "text": [
      "\n",
      "[Train] train_loss: 0.424 train_accuracy: 0.784 \n",
      "\n"
     ]
    },
    {
     "name": "stderr",
     "output_type": "stream",
     "text": [
      "2023-10-27 07:34:03,387 DEBUG MainThread urllib3.connectionpool https://api.wandb.ai:443 \"POST /graphql HTTP/1.1\" 200 None\n"
     ]
    },
    {
     "name": "stdout",
     "output_type": "stream",
     "text": [
      "Epoch 42: 100%|██████████████████| 187/187 [00:10<00:00, 17.29it/s, v_num=gby9, train_loss=0.163, train_accuracy=0.833]"
     ]
    },
    {
     "name": "stderr",
     "output_type": "stream",
     "text": [
      "2023-10-27 07:34:14,242 DEBUG MainThread fsspec.local open file: C:/Users/Georgy/Desktop/PhD/Skoltech/4term_T1/Neuroimaging_ML/PROJECT/STGATE/experiments/lightning_logs/lui8gby9/checkpoints/epoch=42-step=8041.ckpt\n",
      "2023-10-27 07:34:14,269 DEBUG MainThread urllib3.connectionpool Starting new HTTPS connection (1): api.wandb.ai:443\n"
     ]
    },
    {
     "name": "stdout",
     "output_type": "stream",
     "text": [
      "\n",
      "[Train] train_loss: 0.428 train_accuracy: 0.784 \n",
      "\n"
     ]
    },
    {
     "name": "stderr",
     "output_type": "stream",
     "text": [
      "2023-10-27 07:34:15,383 DEBUG MainThread urllib3.connectionpool https://api.wandb.ai:443 \"POST /graphql HTTP/1.1\" 200 None\n"
     ]
    },
    {
     "name": "stdout",
     "output_type": "stream",
     "text": [
      "Epoch 43: 100%|██████████████████| 187/187 [00:13<00:00, 13.36it/s, v_num=gby9, train_loss=0.321, train_accuracy=0.833]\n",
      "[Train] train_loss: 0.418 train_accuracy: 0.796 \n",
      "\n"
     ]
    },
    {
     "name": "stderr",
     "output_type": "stream",
     "text": [
      "2023-10-27 07:34:29,430 DEBUG MainThread fsspec.local open file: C:/Users/Georgy/Desktop/PhD/Skoltech/4term_T1/Neuroimaging_ML/PROJECT/STGATE/experiments/lightning_logs/lui8gby9/checkpoints/epoch=43-step=8228.ckpt\n",
      "2023-10-27 07:34:29,478 DEBUG MainThread urllib3.connectionpool Starting new HTTPS connection (1): api.wandb.ai:443\n",
      "2023-10-27 07:34:30,950 DEBUG MainThread urllib3.connectionpool https://api.wandb.ai:443 \"POST /graphql HTTP/1.1\" 200 None\n"
     ]
    },
    {
     "name": "stdout",
     "output_type": "stream",
     "text": [
      "Epoch 44: 100%|██████████████████| 187/187 [00:16<00:00, 11.17it/s, v_num=gby9, train_loss=0.194, train_accuracy=1.000]"
     ]
    },
    {
     "name": "stderr",
     "output_type": "stream",
     "text": [
      "2023-10-27 07:34:47,736 DEBUG MainThread fsspec.local open file: C:/Users/Georgy/Desktop/PhD/Skoltech/4term_T1/Neuroimaging_ML/PROJECT/STGATE/experiments/lightning_logs/lui8gby9/checkpoints/epoch=44-step=8415.ckpt\n"
     ]
    },
    {
     "name": "stdout",
     "output_type": "stream",
     "text": [
      "\n",
      "[Train] train_loss: 0.426 train_accuracy: 0.779 \n",
      "\n"
     ]
    },
    {
     "name": "stderr",
     "output_type": "stream",
     "text": [
      "2023-10-27 07:34:47,762 DEBUG MainThread urllib3.connectionpool Starting new HTTPS connection (1): api.wandb.ai:443\n",
      "2023-10-27 07:34:48,774 DEBUG MainThread urllib3.connectionpool https://api.wandb.ai:443 \"POST /graphql HTTP/1.1\" 200 None\n"
     ]
    },
    {
     "name": "stdout",
     "output_type": "stream",
     "text": [
      "Epoch 45: 100%|██████████████████| 187/187 [00:10<00:00, 18.02it/s, v_num=gby9, train_loss=0.348, train_accuracy=0.833]\n",
      "[Train] train_loss: 0.412 train_accuracy: 0.795 \n",
      "\n"
     ]
    },
    {
     "name": "stderr",
     "output_type": "stream",
     "text": [
      "2023-10-27 07:34:59,200 DEBUG MainThread fsspec.local open file: C:/Users/Georgy/Desktop/PhD/Skoltech/4term_T1/Neuroimaging_ML/PROJECT/STGATE/experiments/lightning_logs/lui8gby9/checkpoints/epoch=45-step=8602.ckpt\n",
      "2023-10-27 07:34:59,247 DEBUG MainThread urllib3.connectionpool Starting new HTTPS connection (1): api.wandb.ai:443\n",
      "2023-10-27 07:35:00,466 DEBUG MainThread urllib3.connectionpool https://api.wandb.ai:443 \"POST /graphql HTTP/1.1\" 200 None\n"
     ]
    },
    {
     "name": "stdout",
     "output_type": "stream",
     "text": [
      "Epoch 46: 100%|██████████████████| 187/187 [00:15<00:00, 12.33it/s, v_num=gby9, train_loss=0.282, train_accuracy=1.000]"
     ]
    },
    {
     "name": "stderr",
     "output_type": "stream",
     "text": [
      "2023-10-27 07:35:15,686 DEBUG MainThread fsspec.local open file: C:/Users/Georgy/Desktop/PhD/Skoltech/4term_T1/Neuroimaging_ML/PROJECT/STGATE/experiments/lightning_logs/lui8gby9/checkpoints/epoch=46-step=8789.ckpt\n"
     ]
    },
    {
     "name": "stdout",
     "output_type": "stream",
     "text": [
      "\n",
      "[Train] train_loss: 0.417 train_accuracy: 0.795 \n",
      "\n"
     ]
    },
    {
     "name": "stderr",
     "output_type": "stream",
     "text": [
      "2023-10-27 07:35:15,719 DEBUG MainThread urllib3.connectionpool Starting new HTTPS connection (1): api.wandb.ai:443\n",
      "2023-10-27 07:35:16,906 DEBUG MainThread urllib3.connectionpool https://api.wandb.ai:443 \"POST /graphql HTTP/1.1\" 200 None\n"
     ]
    },
    {
     "name": "stdout",
     "output_type": "stream",
     "text": [
      "Epoch 47: 100%|██████████████████| 187/187 [00:13<00:00, 14.01it/s, v_num=gby9, train_loss=0.612, train_accuracy=0.667]"
     ]
    },
    {
     "name": "stderr",
     "output_type": "stream",
     "text": [
      "2023-10-27 07:35:30,304 DEBUG MainThread fsspec.local open file: C:/Users/Georgy/Desktop/PhD/Skoltech/4term_T1/Neuroimaging_ML/PROJECT/STGATE/experiments/lightning_logs/lui8gby9/checkpoints/epoch=47-step=8976.ckpt\n",
      "2023-10-27 07:35:30,322 DEBUG MainThread urllib3.connectionpool Starting new HTTPS connection (1): api.wandb.ai:443\n"
     ]
    },
    {
     "name": "stdout",
     "output_type": "stream",
     "text": [
      "\n",
      "[Train] train_loss: 0.419 train_accuracy: 0.790 \n",
      "\n"
     ]
    },
    {
     "name": "stderr",
     "output_type": "stream",
     "text": [
      "2023-10-27 07:35:31,318 DEBUG MainThread urllib3.connectionpool https://api.wandb.ai:443 \"POST /graphql HTTP/1.1\" 200 None\n"
     ]
    },
    {
     "name": "stdout",
     "output_type": "stream",
     "text": [
      "Epoch 48: 100%|██████████████████| 187/187 [00:10<00:00, 17.89it/s, v_num=gby9, train_loss=0.418, train_accuracy=0.833]\n",
      "[Train] train_loss: 0.411 train_accuracy: 0.795 \n"
     ]
    },
    {
     "name": "stderr",
     "output_type": "stream",
     "text": [
      "2023-10-27 07:35:41,827 DEBUG MainThread fsspec.local open file: C:/Users/Georgy/Desktop/PhD/Skoltech/4term_T1/Neuroimaging_ML/PROJECT/STGATE/experiments/lightning_logs/lui8gby9/checkpoints/epoch=48-step=9163.ckpt\n"
     ]
    },
    {
     "name": "stdout",
     "output_type": "stream",
     "text": [
      "\n"
     ]
    },
    {
     "name": "stderr",
     "output_type": "stream",
     "text": [
      "2023-10-27 07:35:41,862 DEBUG MainThread urllib3.connectionpool Starting new HTTPS connection (1): api.wandb.ai:443\n",
      "2023-10-27 07:35:42,989 DEBUG MainThread urllib3.connectionpool https://api.wandb.ai:443 \"POST /graphql HTTP/1.1\" 200 None\n"
     ]
    },
    {
     "name": "stdout",
     "output_type": "stream",
     "text": [
      "Epoch 49: 100%|██████████████████| 187/187 [00:14<00:00, 13.09it/s, v_num=gby9, train_loss=0.262, train_accuracy=1.000]"
     ]
    },
    {
     "name": "stderr",
     "output_type": "stream",
     "text": [
      "2023-10-27 07:35:57,316 DEBUG MainThread fsspec.local open file: C:/Users/Georgy/Desktop/PhD/Skoltech/4term_T1/Neuroimaging_ML/PROJECT/STGATE/experiments/lightning_logs/lui8gby9/checkpoints/epoch=49-step=9350.ckpt\n",
      "2023-10-27 07:35:57,341 DEBUG MainThread urllib3.connectionpool Starting new HTTPS connection (1): api.wandb.ai:443\n"
     ]
    },
    {
     "name": "stdout",
     "output_type": "stream",
     "text": [
      "\n",
      "[Train] train_loss: 0.410 train_accuracy: 0.792 \n",
      "\n"
     ]
    },
    {
     "name": "stderr",
     "output_type": "stream",
     "text": [
      "2023-10-27 07:35:58,566 DEBUG MainThread urllib3.connectionpool https://api.wandb.ai:443 \"POST /graphql HTTP/1.1\" 200 None\n",
      "2023-10-27 07:35:58,586 INFO MainThread pytorch_lightning.utilities.rank_zero `Trainer.fit` stopped: `max_epochs=50` reached.\n"
     ]
    },
    {
     "name": "stdout",
     "output_type": "stream",
     "text": [
      "Epoch 49: 100%|██████████████████| 187/187 [00:15<00:00, 12.00it/s, v_num=gby9, train_loss=0.262, train_accuracy=1.000]"
     ]
    },
    {
     "name": "stderr",
     "output_type": "stream",
     "text": [
      "2023-10-27 07:35:58,681 INFO MainThread pytorch_lightning.utilities.rank_zero GPU available: True (cuda), used: True\n",
      "2023-10-27 07:35:58,684 INFO MainThread pytorch_lightning.utilities.rank_zero TPU available: False, using: 0 TPU cores\n",
      "2023-10-27 07:35:58,687 INFO MainThread pytorch_lightning.utilities.rank_zero IPU available: False, using: 0 IPUs\n",
      "2023-10-27 07:35:58,690 INFO MainThread pytorch_lightning.utilities.rank_zero HPU available: False, using: 0 HPUs\n"
     ]
    },
    {
     "name": "stdout",
     "output_type": "stream",
     "text": [
      "\n"
     ]
    },
    {
     "name": "stderr",
     "output_type": "stream",
     "text": [
      "C:\\Users\\Georgy\\AppData\\Local\\Programs\\Python\\Python311\\Lib\\site-packages\\pytorch_lightning\\trainer\\connectors\\logger_connector\\logger_connector.py:67: Starting from v1.9.0, `tensorboardX` has been removed as a dependency of the `pytorch_lightning` package, due to potential conflicts with other packages in the ML ecosystem. For this reason, `logger=True` will use `CSVLogger` as the default logger, unless the `tensorboard` or `tensorboardX` packages are found. Please `pip install lightning[extra]` or one of them to enable TensorBoard support by default\n",
      "2023-10-27 07:35:59,214 INFO MainThread pytorch_lightning.accelerators.cuda LOCAL_RANK: 0 - CUDA_VISIBLE_DEVICES: [0]\n",
      "2023-10-27 07:35:59,218 DEBUG MainThread fsspec.local open file: C:/Users/Georgy/Desktop/PhD/Skoltech/4term_T1/Neuroimaging_ML/PROJECT/STGATE/experiments/lightning_logs/version_6/hparams.yaml\n",
      "C:\\Users\\Georgy\\AppData\\Local\\Programs\\Python\\Python311\\Lib\\site-packages\\pytorch_lightning\\trainer\\connectors\\data_connector.py:441: The 'test_dataloader' does not have many workers which may be a bottleneck. Consider increasing the value of the `num_workers` argument` to `num_workers=7` in the `DataLoader` to improve performance.\n"
     ]
    },
    {
     "name": "stdout",
     "output_type": "stream",
     "text": [
      "Testing DataLoader 0: 100%|████████████████████████████████████████████████████████████| 47/47 [00:02<00:00, 17.59it/s]"
     ]
    },
    {
     "name": "stderr",
     "output_type": "stream",
     "text": [
      "2023-10-27 07:36:01,975 DEBUG MainThread fsspec.local open file: C:/Users/Georgy/Desktop/PhD/Skoltech/4term_T1/Neuroimaging_ML/PROJECT/STGATE/experiments/lightning_logs/version_6/hparams.yaml\n",
      "2023-10-27 07:36:01,982 DEBUG MainThread fsspec.local open file: C:/Users/Georgy/Desktop/PhD/Skoltech/4term_T1/Neuroimaging_ML/PROJECT/STGATE/experiments/lightning_logs/version_6/metrics.csv\n"
     ]
    },
    {
     "name": "stdout",
     "output_type": "stream",
     "text": [
      "\n",
      "[Test] test_loss: 0.507 test_accuracy: 0.760 \n",
      "\n",
      "Testing DataLoader 0: 100%|████████████████████████████████████████████████████████████| 47/47 [00:02<00:00, 17.41it/s]\n"
     ]
    },
    {
     "data": {
      "text/html": [
       "<pre style=\"white-space:pre;overflow-x:auto;line-height:normal;font-family:Menlo,'DejaVu Sans Mono',consolas,'Courier New',monospace\">┏━━━━━━━━━━━━━━━━━━━━━━━━━━━┳━━━━━━━━━━━━━━━━━━━━━━━━━━━┓\n",
       "┃<span style=\"font-weight: bold\">        Test metric        </span>┃<span style=\"font-weight: bold\">       DataLoader 0        </span>┃\n",
       "┡━━━━━━━━━━━━━━━━━━━━━━━━━━━╇━━━━━━━━━━━━━━━━━━━━━━━━━━━┩\n",
       "│<span style=\"color: #008080; text-decoration-color: #008080\">       test_accuracy       </span>│<span style=\"color: #800080; text-decoration-color: #800080\">    0.7600536346435547     </span>│\n",
       "│<span style=\"color: #008080; text-decoration-color: #008080\">         test_loss         </span>│<span style=\"color: #800080; text-decoration-color: #800080\">    0.5070388317108154     </span>│\n",
       "└───────────────────────────┴───────────────────────────┘\n",
       "</pre>\n"
      ],
      "text/plain": [
       "┏━━━━━━━━━━━━━━━━━━━━━━━━━━━┳━━━━━━━━━━━━━━━━━━━━━━━━━━━┓\n",
       "┃\u001b[1m \u001b[0m\u001b[1m       Test metric       \u001b[0m\u001b[1m \u001b[0m┃\u001b[1m \u001b[0m\u001b[1m      DataLoader 0       \u001b[0m\u001b[1m \u001b[0m┃\n",
       "┡━━━━━━━━━━━━━━━━━━━━━━━━━━━╇━━━━━━━━━━━━━━━━━━━━━━━━━━━┩\n",
       "│\u001b[36m \u001b[0m\u001b[36m      test_accuracy      \u001b[0m\u001b[36m \u001b[0m│\u001b[35m \u001b[0m\u001b[35m   0.7600536346435547    \u001b[0m\u001b[35m \u001b[0m│\n",
       "│\u001b[36m \u001b[0m\u001b[36m        test_loss        \u001b[0m\u001b[36m \u001b[0m│\u001b[35m \u001b[0m\u001b[35m   0.5070388317108154    \u001b[0m\u001b[35m \u001b[0m│\n",
       "└───────────────────────────┴───────────────────────────┘\n"
      ]
     },
     "metadata": {},
     "output_type": "display_data"
    },
    {
     "name": "stderr",
     "output_type": "stream",
     "text": [
      "2023-10-27 07:36:02,033 DEBUG MainThread fsspec.local open file: C:/Users/Georgy/Desktop/PhD/Skoltech/4term_T1/Neuroimaging_ML/PROJECT/STGATE/experiments/lightning_logs/version_6/hparams.yaml\n"
     ]
    },
    {
     "name": "stdout",
     "output_type": "stream",
     "text": [
      "Fold 0 test accuracy: 0.7601\n"
     ]
    },
    {
     "name": "stderr",
     "output_type": "stream",
     "text": [
      "2023-10-27 07:36:03,923 INFO MainThread pytorch_lightning.utilities.rank_zero GPU available: True (cuda), used: True\n",
      "2023-10-27 07:36:03,926 INFO MainThread pytorch_lightning.utilities.rank_zero TPU available: False, using: 0 TPU cores\n",
      "2023-10-27 07:36:03,928 INFO MainThread pytorch_lightning.utilities.rank_zero IPU available: False, using: 0 IPUs\n",
      "2023-10-27 07:36:03,930 INFO MainThread pytorch_lightning.utilities.rank_zero HPU available: False, using: 0 HPUs\n",
      "C:\\Users\\Georgy\\AppData\\Local\\Programs\\Python\\Python311\\Lib\\site-packages\\pytorch_lightning\\callbacks\\model_checkpoint.py:630: Checkpoint directory .\\lightning_logs\\lui8gby9\\checkpoints exists and is not empty.\n",
      "2023-10-27 07:36:03,949 INFO MainThread pytorch_lightning.accelerators.cuda LOCAL_RANK: 0 - CUDA_VISIBLE_DEVICES: [0]\n",
      "2023-10-27 07:36:03,956 INFO MainThread pytorch_lightning.callbacks.model_summary \n",
      "  | Name          | Type             | Params\n",
      "---------------------------------------------------\n",
      "0 | model         | DGCNN            | 74.4 K\n",
      "1 | ce_fn         | CrossEntropyLoss | 0     \n",
      "2 | train_loss    | MeanMetric       | 0     \n",
      "3 | val_loss      | MeanMetric       | 0     \n",
      "4 | test_loss     | MeanMetric       | 0     \n",
      "5 | train_metrics | MetricCollection | 0     \n",
      "6 | val_metrics   | MetricCollection | 0     \n",
      "7 | test_metrics  | MetricCollection | 0     \n",
      "---------------------------------------------------\n",
      "74.4 K    Trainable params\n",
      "0         Non-trainable params\n",
      "74.4 K    Total params\n",
      "0.297     Total estimated model params size (MB)\n",
      "C:\\Users\\Georgy\\AppData\\Local\\Programs\\Python\\Python311\\Lib\\site-packages\\pytorch_lightning\\trainer\\connectors\\data_connector.py:441: The 'train_dataloader' does not have many workers which may be a bottleneck. Consider increasing the value of the `num_workers` argument` to `num_workers=7` in the `DataLoader` to improve performance.\n"
     ]
    },
    {
     "name": "stdout",
     "output_type": "stream",
     "text": [
      "Epoch 0: 100%|███████████████████| 187/187 [00:20<00:00,  8.93it/s, v_num=gby9, train_loss=0.809, train_accuracy=0.500]"
     ]
    },
    {
     "name": "stderr",
     "output_type": "stream",
     "text": [
      "2023-10-27 07:36:24,949 DEBUG MainThread fsspec.local open file: C:/Users/Georgy/Desktop/PhD/Skoltech/4term_T1/Neuroimaging_ML/PROJECT/STGATE/experiments/lightning_logs/lui8gby9/checkpoints/epoch=0-step=187.ckpt\n"
     ]
    },
    {
     "name": "stdout",
     "output_type": "stream",
     "text": [
      "\n",
      "[Train] train_loss: 0.624 train_accuracy: 0.677 \n",
      "\n"
     ]
    },
    {
     "name": "stderr",
     "output_type": "stream",
     "text": [
      "2023-10-27 07:36:24,999 DEBUG MainThread urllib3.connectionpool Starting new HTTPS connection (1): api.wandb.ai:443\n",
      "2023-10-27 07:36:26,031 DEBUG MainThread urllib3.connectionpool https://api.wandb.ai:443 \"POST /graphql HTTP/1.1\" 200 None\n"
     ]
    },
    {
     "name": "stdout",
     "output_type": "stream",
     "text": [
      "Epoch 1: 100%|███████████████████| 187/187 [00:12<00:00, 14.76it/s, v_num=gby9, train_loss=0.784, train_accuracy=0.667]"
     ]
    },
    {
     "name": "stderr",
     "output_type": "stream",
     "text": [
      "2023-10-27 07:36:38,740 DEBUG MainThread fsspec.local open file: C:/Users/Georgy/Desktop/PhD/Skoltech/4term_T1/Neuroimaging_ML/PROJECT/STGATE/experiments/lightning_logs/lui8gby9/checkpoints/epoch=1-step=374.ckpt\n"
     ]
    },
    {
     "name": "stdout",
     "output_type": "stream",
     "text": [
      "\n",
      "[Train] train_loss: 0.576 train_accuracy: 0.698 \n",
      "\n"
     ]
    },
    {
     "name": "stderr",
     "output_type": "stream",
     "text": [
      "2023-10-27 07:36:38,762 DEBUG MainThread urllib3.connectionpool Starting new HTTPS connection (1): api.wandb.ai:443\n",
      "2023-10-27 07:36:39,896 DEBUG MainThread urllib3.connectionpool https://api.wandb.ai:443 \"POST /graphql HTTP/1.1\" 200 None\n"
     ]
    },
    {
     "name": "stdout",
     "output_type": "stream",
     "text": [
      "Epoch 2: 100%|███████████████████| 187/187 [00:15<00:00, 11.73it/s, v_num=gby9, train_loss=0.394, train_accuracy=0.833]\n",
      "[Train] train_loss: 0.568 train_accuracy: 0.692 \n"
     ]
    },
    {
     "name": "stderr",
     "output_type": "stream",
     "text": [
      "2023-10-27 07:36:55,883 DEBUG MainThread fsspec.local open file: C:/Users/Georgy/Desktop/PhD/Skoltech/4term_T1/Neuroimaging_ML/PROJECT/STGATE/experiments/lightning_logs/lui8gby9/checkpoints/epoch=2-step=561.ckpt\n",
      "2023-10-27 07:36:55,918 DEBUG MainThread urllib3.connectionpool Starting new HTTPS connection (1): api.wandb.ai:443\n"
     ]
    },
    {
     "name": "stdout",
     "output_type": "stream",
     "text": [
      "\n"
     ]
    },
    {
     "name": "stderr",
     "output_type": "stream",
     "text": [
      "2023-10-27 07:36:57,341 DEBUG MainThread urllib3.connectionpool https://api.wandb.ai:443 \"POST /graphql HTTP/1.1\" 200 None\n"
     ]
    },
    {
     "name": "stdout",
     "output_type": "stream",
     "text": [
      "Epoch 3: 100%|███████████████████| 187/187 [00:15<00:00, 12.39it/s, v_num=gby9, train_loss=0.553, train_accuracy=0.667]"
     ]
    },
    {
     "name": "stderr",
     "output_type": "stream",
     "text": [
      "2023-10-27 07:37:12,491 DEBUG MainThread fsspec.local open file: C:/Users/Georgy/Desktop/PhD/Skoltech/4term_T1/Neuroimaging_ML/PROJECT/STGATE/experiments/lightning_logs/lui8gby9/checkpoints/epoch=3-step=748.ckpt\n"
     ]
    },
    {
     "name": "stdout",
     "output_type": "stream",
     "text": [
      "\n",
      "[Train] train_loss: 0.552 train_accuracy: 0.706 \n",
      "\n"
     ]
    },
    {
     "name": "stderr",
     "output_type": "stream",
     "text": [
      "2023-10-27 07:37:12,529 DEBUG MainThread urllib3.connectionpool Starting new HTTPS connection (1): api.wandb.ai:443\n",
      "2023-10-27 07:37:13,638 DEBUG MainThread urllib3.connectionpool https://api.wandb.ai:443 \"POST /graphql HTTP/1.1\" 200 None\n"
     ]
    },
    {
     "name": "stdout",
     "output_type": "stream",
     "text": [
      "Epoch 4:  99%|██████████████████▊| 185/187 [00:14<00:00, 12.71it/s, v_num=gby9, train_loss=0.423, train_accuracy=0.875]"
     ]
    },
    {
     "name": "stderr",
     "output_type": "stream",
     "text": [
      "C:\\Users\\Georgy\\AppData\\Local\\Programs\\Python\\Python311\\Lib\\site-packages\\pytorch_lightning\\trainer\\call.py:54: Detected KeyboardInterrupt, attempting graceful shutdown...\n",
      "2023-10-27 07:37:28,379 INFO MainThread pytorch_lightning.utilities.rank_zero GPU available: True (cuda), used: True\n",
      "2023-10-27 07:37:28,382 INFO MainThread pytorch_lightning.utilities.rank_zero TPU available: False, using: 0 TPU cores\n",
      "2023-10-27 07:37:28,388 INFO MainThread pytorch_lightning.utilities.rank_zero IPU available: False, using: 0 IPUs\n",
      "2023-10-27 07:37:28,392 INFO MainThread pytorch_lightning.utilities.rank_zero HPU available: False, using: 0 HPUs\n",
      "2023-10-27 07:37:28,418 INFO MainThread pytorch_lightning.accelerators.cuda LOCAL_RANK: 0 - CUDA_VISIBLE_DEVICES: [0]\n",
      "2023-10-27 07:37:28,428 DEBUG MainThread fsspec.local open file: C:/Users/Georgy/Desktop/PhD/Skoltech/4term_T1/Neuroimaging_ML/PROJECT/STGATE/experiments/lightning_logs/version_7/hparams.yaml\n",
      "C:\\Users\\Georgy\\AppData\\Local\\Programs\\Python\\Python311\\Lib\\site-packages\\pytorch_lightning\\trainer\\connectors\\data_connector.py:441: The 'test_dataloader' does not have many workers which may be a bottleneck. Consider increasing the value of the `num_workers` argument` to `num_workers=7` in the `DataLoader` to improve performance.\n"
     ]
    },
    {
     "name": "stdout",
     "output_type": "stream",
     "text": [
      "Testing DataLoader 0:  91%|██████████████████████████████████████████████████████▉     | 43/47 [00:03<00:00, 12.29it/s]"
     ]
    },
    {
     "name": "stderr",
     "output_type": "stream",
     "text": [
      "2023-10-27 07:37:32,146 DEBUG MainThread fsspec.local open file: C:/Users/Georgy/Desktop/PhD/Skoltech/4term_T1/Neuroimaging_ML/PROJECT/STGATE/experiments/lightning_logs/version_7/hparams.yaml\n"
     ]
    },
    {
     "name": "stdout",
     "output_type": "stream",
     "text": [
      "Epoch 4:  99%|██████████████████▊| 185/187 [00:22<00:00,  8.39it/s, v_num=gby9, train_loss=0.423, train_accuracy=0.875]\n"
     ]
    },
    {
     "ename": "TypeError",
     "evalue": "'NoneType' object is not subscriptable",
     "output_type": "error",
     "traceback": [
      "\u001b[1;31m---------------------------------------------------------------------------\u001b[0m",
      "\u001b[1;31mTypeError\u001b[0m                                 Traceback (most recent call last)",
      "Cell \u001b[1;32mIn[7], line 34\u001b[0m\n\u001b[0;32m     20\u001b[0m trainer \u001b[38;5;241m=\u001b[39m ClassifierTrainer(model\u001b[38;5;241m=\u001b[39mmodel,\n\u001b[0;32m     21\u001b[0m                             num_classes\u001b[38;5;241m=\u001b[39m\u001b[38;5;241m2\u001b[39m,\n\u001b[0;32m     22\u001b[0m                             lr\u001b[38;5;241m=\u001b[39m\u001b[38;5;241m1e-4\u001b[39m,\n\u001b[0;32m     23\u001b[0m                             weight_decay\u001b[38;5;241m=\u001b[39m\u001b[38;5;241m1e-4\u001b[39m,\n\u001b[0;32m     24\u001b[0m                             accelerator\u001b[38;5;241m=\u001b[39m\u001b[38;5;124m\"\u001b[39m\u001b[38;5;124mgpu\u001b[39m\u001b[38;5;124m\"\u001b[39m)\n\u001b[0;32m     25\u001b[0m trainer\u001b[38;5;241m.\u001b[39mfit(train_loader,\n\u001b[0;32m     26\u001b[0m             val_loader,\n\u001b[0;32m     27\u001b[0m             max_epochs\u001b[38;5;241m=\u001b[39m\u001b[38;5;241m50\u001b[39m,\n\u001b[1;32m   (...)\u001b[0m\n\u001b[0;32m     32\u001b[0m             enable_model_summary\u001b[38;5;241m=\u001b[39m\u001b[38;5;28;01mTrue\u001b[39;00m,\n\u001b[0;32m     33\u001b[0m             limit_val_batches\u001b[38;5;241m=\u001b[39m\u001b[38;5;241m0.0\u001b[39m)\n\u001b[1;32m---> 34\u001b[0m score \u001b[38;5;241m=\u001b[39m \u001b[43mtrainer\u001b[49m\u001b[38;5;241;43m.\u001b[39;49m\u001b[43mtest\u001b[49m\u001b[43m(\u001b[49m\u001b[43mval_loader\u001b[49m\u001b[43m,\u001b[49m\n\u001b[0;32m     35\u001b[0m \u001b[43m                     \u001b[49m\u001b[43menable_progress_bar\u001b[49m\u001b[38;5;241;43m=\u001b[39;49m\u001b[38;5;28;43;01mTrue\u001b[39;49;00m\u001b[43m,\u001b[49m\n\u001b[0;32m     36\u001b[0m \u001b[43m                     \u001b[49m\u001b[43menable_model_summary\u001b[49m\u001b[38;5;241;43m=\u001b[39;49m\u001b[38;5;28;43;01mTrue\u001b[39;49;00m\u001b[43m)\u001b[49m\u001b[43m[\u001b[49m\u001b[38;5;241;43m0\u001b[39;49m\u001b[43m]\u001b[49m\n\u001b[0;32m     37\u001b[0m \u001b[38;5;28mprint\u001b[39m(\u001b[38;5;124mf\u001b[39m\u001b[38;5;124m'\u001b[39m\u001b[38;5;124mFold \u001b[39m\u001b[38;5;132;01m{\u001b[39;00mi\u001b[38;5;132;01m}\u001b[39;00m\u001b[38;5;124m test accuracy: \u001b[39m\u001b[38;5;132;01m{\u001b[39;00mscore[\u001b[38;5;124m\"\u001b[39m\u001b[38;5;124mtest_accuracy\u001b[39m\u001b[38;5;124m\"\u001b[39m]\u001b[38;5;132;01m:\u001b[39;00m\u001b[38;5;124m.4f\u001b[39m\u001b[38;5;132;01m}\u001b[39;00m\u001b[38;5;124m'\u001b[39m)\n",
      "\u001b[1;31mTypeError\u001b[0m: 'NoneType' object is not subscriptable"
     ]
    }
   ],
   "source": [
    "from torch.utils.data import DataLoader\n",
    "from torcheeg.models import DGCNN\n",
    "\n",
    "from torcheeg.trainers import ClassifierTrainer\n",
    "\n",
    "import pytorch_lightning as pl\n",
    "from pytorch_lightning.loggers import WandbLogger\n",
    "wandb_logger = WandbLogger(log_model=\"all\")\n",
    "\n",
    "\n",
    "for i, (train_dataset, val_dataset) in enumerate(k_fold.split(dataset)):\n",
    "    train_loader = DataLoader(train_dataset, batch_size=16, shuffle=True)\n",
    "    val_loader = DataLoader(val_dataset, batch_size=16, shuffle=False)\n",
    "\n",
    "    model = DGCNN(in_channels=128,\n",
    "                  num_electrodes=14,\n",
    "                  hid_channels=64,\n",
    "                  num_classes=2)\n",
    "\n",
    "    trainer = ClassifierTrainer(model=model,\n",
    "                                num_classes=2,\n",
    "                                lr=1e-4,\n",
    "                                weight_decay=1e-4,\n",
    "                                accelerator=\"gpu\")\n",
    "    trainer.fit(train_loader,\n",
    "                val_loader,\n",
    "                max_epochs=50,\n",
    "                default_root_dir=os.path.join('.', \"dgcnn_model\", f'{i}'),\n",
    "                callbacks=[pl.callbacks.ModelCheckpoint(save_last=True)],\n",
    "                logger=wandb_logger,\n",
    "                enable_progress_bar=True,\n",
    "                enable_model_summary=True,\n",
    "                limit_val_batches=0.0)\n",
    "    score = trainer.test(val_loader,\n",
    "                         enable_progress_bar=True,\n",
    "                         enable_model_summary=True)[0]\n",
    "    print(f'Fold {i} test accuracy: {score[\"test_accuracy\"]:.4f}')"
   ]
  },
  {
   "cell_type": "code",
   "execution_count": null,
   "id": "87067aed-f068-4a16-b2ef-f484d3564706",
   "metadata": {},
   "outputs": [],
   "source": []
  }
 ],
 "metadata": {
  "kernelspec": {
   "display_name": "Python 3 (ipykernel)",
   "language": "python",
   "name": "python3"
  },
  "language_info": {
   "codemirror_mode": {
    "name": "ipython",
    "version": 3
   },
   "file_extension": ".py",
   "mimetype": "text/x-python",
   "name": "python",
   "nbconvert_exporter": "python",
   "pygments_lexer": "ipython3",
   "version": "3.11.5"
  }
 },
 "nbformat": 4,
 "nbformat_minor": 5
}
